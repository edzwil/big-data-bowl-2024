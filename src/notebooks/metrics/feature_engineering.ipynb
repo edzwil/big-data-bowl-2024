{
 "cells": [
  {
   "cell_type": "code",
   "execution_count": 19,
   "metadata": {},
   "outputs": [],
   "source": [
    "import os\n",
    "import pandas as pd\n",
    "import numpy as np\n",
    "import matplotlib.pyplot as plt\n",
    "import seaborn as sns\n",
    "from scipy.spatial.distance import cdist\n",
    "from tqdm.notebook import tqdm\n",
    "import IPython"
   ]
  },
  {
   "cell_type": "markdown",
   "metadata": {},
   "source": [
    "Reading in Data"
   ]
  },
  {
   "cell_type": "code",
   "execution_count": null,
   "metadata": {},
   "outputs": [],
   "source": [
    "\"\"\"Katies reading in files\"\"\"\n",
    "players = pd.read_csv(\"players.csv\")\n",
    "week = pd.read_csv(\"tracking_week_1.csv\")\n",
    "plays = pd.read_csv(\"plays.csv\")\n",
    "tackles = pd.read_csv(\"tackles.csv\")\n",
    "\n",
    "\n",
    "# join player positioning information onto a week's worth of tracking data \n",
    "week = week.merge(players.loc[:, ['nflId', 'position']], how='left')\n",
    "week.shape"
   ]
  },
  {
   "cell_type": "code",
   "execution_count": 20,
   "metadata": {},
   "outputs": [
    {
     "data": {
      "text/plain": [
       "(1407439, 18)"
      ]
     },
     "execution_count": 20,
     "metadata": {},
     "output_type": "execute_result"
    }
   ],
   "source": [
    "\"\"\" Matts reading in files \"\"\"\n",
    "def load_dataset(dataset_name):\n",
    "    \"\"\"\n",
    "    Download a specific dataset from data directory.\n",
    "\n",
    "    Parameters:\n",
    "    - dataset_name: Name of the dataset to load\n",
    "    \"\"\"\n",
    "    return pd.read_csv(f\"C:\\\\Users\\\\mattd\\\\Documents\\\\GitHub\\\\big-data-bowl-2024\\\\data\\\\{dataset_name}.csv\")\n",
    "\n",
    "# Read In csvs\n",
    "plays = load_dataset(\"plays\")\n",
    "players = load_dataset(\"players\")\n",
    "week = load_dataset(\"tracking_week_1\")\n",
    "tackles = load_dataset(\"tackles\")\n",
    "week = week.merge(players.loc[:, ['nflId', 'position']], how='left')\n",
    "week.shape"
   ]
  },
  {
   "cell_type": "markdown",
   "metadata": {},
   "source": [
    "Defining Functions for feature engineering at each level\n",
    "\n",
    "(Just put in ones I thought of, if it has #TO DO: over it then it isnt complete/not started)"
   ]
  },
  {
   "cell_type": "code",
   "execution_count": 21,
   "metadata": {},
   "outputs": [],
   "source": [
    "\"\"\"Game level functions\"\"\"\n",
    "\n",
    "def get_frames_of_catch(games):\n",
    "    \"\"\"\n",
    "    Returns only the frame of the play where the ball is caught.\n",
    "\n",
    "    Parameters:\n",
    "    - games: Dataset of games\n",
    "\n",
    "    Returns:\n",
    "    - frame: The tracking data of only the data where the ball is caught\n",
    "    \"\"\"\n",
    "    return games.loc[games['event'] == 'pass_outcome_caught'].copy()"
   ]
  },
  {
   "cell_type": "code",
   "execution_count": 74,
   "metadata": {},
   "outputs": [],
   "source": [
    "\"\"\"Frame level functions\"\"\"\n",
    "def distance_to_ball(play_data, frame):\n",
    "    \"\"\"\n",
    "    Calculates the distance to the ball for each player per frame in a play.\n",
    "\n",
    "    Parameters:\n",
    "    - dataset_name: Name of the dataset to load\n",
    "    \"\"\"\n",
    "    ball_carrier_id = play_data[\"ballCarrierId\"].iloc[0]\n",
    "    ball_carrier = frame[frame[\"nflId\"] == ball_carrier_id]\n",
    "    carr_x = ball_carrier[\"x\"].values[0]\n",
    "    carr_y = ball_carrier[\"y\"].values[0]\n",
    "    frame['distance_to_ball_carrier'] = cdist(frame[['x', 'y']], [[carr_x, carr_y]], metric='euclidean')\n",
    "    return frame\n",
    "\n",
    "def who_tackles(play_data, frame):\n",
    "    \"\"\"\n",
    "    Adds who tackles the ball carrier to the tracking data set.\n",
    "\n",
    "    Parameters:\n",
    "    - dataset_name: Name of the dataset to load\n",
    "    \"\"\"\n",
    "    ball_carrier_id = play_data[\"ballCarrierId\"].iloc[0]\n",
    "    ball_carrier = frame[frame[\"nflId\"] == ball_carrier_id]\n",
    "    carr_x = ball_carrier[\"x\"].values[0]\n",
    "    carr_y = ball_carrier[\"y\"].values[0]\n",
    "    frame['distance_to_ball_carrier'] = cdist(frame[['x', 'y']], [[carr_x, carr_y]], metric='euclidean')\n",
    "    return frame\n",
    "\n",
    "def create_dnn_input_df(frames, side_of_ball):\n",
    "    \"\"\"\n",
    "    Creates the input dataframe for the DNN model.\n",
    "\n",
    "    Parameters:\n",
    "    - frames: Name of the dataset to load\n",
    "    \"\"\"\n",
    "    sorted = frames.sort_values(by='distance_to_ball_carrier').reset_index(drop=True)\n",
    "    \n",
    "    input_df = pd.DataFrame()\n",
    "    # Iterate over each row in the sorted DataFrame\n",
    "    for idx, row in sorted.iterrows():\n",
    "        # Extract player's x and y values\n",
    "        x = row['x']\n",
    "        y = row['y']\n",
    "        s = row['s']\n",
    "        a = row['a']\n",
    "        dis = row['dis']\n",
    "        o = row['o']\n",
    "        dir = row['dir']\n",
    "        distance_to_ball_carrier = row['distance_to_ball_carrier']\n",
    "\n",
    "\n",
    "        # Add x_i columns to the new DataFrame\n",
    "        input_df.loc[0,f'{side_of_ball}_x_{idx}'] = x\n",
    "        input_df.loc[0,f'{side_of_ball}_y_{idx}'] = y\n",
    "        input_df.loc[0,f'{side_of_ball}_s_{idx}'] = s\n",
    "        input_df.loc[0,f'{side_of_ball}_a_{idx}'] = a\n",
    "        input_df.loc[0,f'{side_of_ball}_dis_{idx}'] = dis\n",
    "        input_df.loc[0,f'{side_of_ball}_o_{idx}'] = o\n",
    "        input_df.loc[0,f'{side_of_ball}_dir_{idx}'] = dir\n",
    "        input_df.loc[0,f'{side_of_ball}_distance_to_ball_carrier_{idx}'] = distance_to_ball_carrier\n",
    "\n",
    "    # Concatenate the original DataFrame with the new x_i DataFrame\n",
    "    return input_df\n",
    "    \n",
    "\n",
    "\n",
    "\n"
   ]
  },
  {
   "cell_type": "markdown",
   "metadata": {},
   "source": [
    "Iterating through each Play"
   ]
  },
  {
   "cell_type": "code",
   "execution_count": 75,
   "metadata": {},
   "outputs": [
    {
     "data": {
      "application/vnd.jupyter.widget-view+json": {
       "model_id": "0609383acd78427097213997c470ed06",
       "version_major": 2,
       "version_minor": 0
      },
      "text/plain": [
       "  0%|          | 0/16 [00:00<?, ?it/s]"
      ]
     },
     "metadata": {},
     "output_type": "display_data"
    },
    {
     "data": {
      "application/vnd.jupyter.widget-view+json": {
       "model_id": "944f4f6d0b22417c95effcd6fa2623e6",
       "version_major": 2,
       "version_minor": 0
      },
      "text/plain": [
       "  0%|          | 0/52 [00:00<?, ?it/s]"
      ]
     },
     "metadata": {},
     "output_type": "display_data"
    },
    {
     "data": {
      "application/vnd.jupyter.widget-view+json": {
       "model_id": "1b30c665b2f8441983aa6e7d7afa454b",
       "version_major": 2,
       "version_minor": 0
      },
      "text/plain": [
       "  0%|          | 0/40 [00:00<?, ?it/s]"
      ]
     },
     "metadata": {},
     "output_type": "display_data"
    },
    {
     "data": {
      "application/vnd.jupyter.widget-view+json": {
       "model_id": "bf14b106ef194d62a522e8aecf95e5b6",
       "version_major": 2,
       "version_minor": 0
      },
      "text/plain": [
       "  0%|          | 0/32 [00:00<?, ?it/s]"
      ]
     },
     "metadata": {},
     "output_type": "display_data"
    },
    {
     "data": {
      "application/vnd.jupyter.widget-view+json": {
       "model_id": "d62894fa55db4f46b6191fda5b8b63db",
       "version_major": 2,
       "version_minor": 0
      },
      "text/plain": [
       "  0%|          | 0/22 [00:00<?, ?it/s]"
      ]
     },
     "metadata": {},
     "output_type": "display_data"
    },
    {
     "data": {
      "application/vnd.jupyter.widget-view+json": {
       "model_id": "61e31636cfd3446fa6d6e920d6644095",
       "version_major": 2,
       "version_minor": 0
      },
      "text/plain": [
       "  0%|          | 0/50 [00:00<?, ?it/s]"
      ]
     },
     "metadata": {},
     "output_type": "display_data"
    },
    {
     "data": {
      "application/vnd.jupyter.widget-view+json": {
       "model_id": "5a0c34ca48064a718cfc784a0c03c402",
       "version_major": 2,
       "version_minor": 0
      },
      "text/plain": [
       "  0%|          | 0/39 [00:00<?, ?it/s]"
      ]
     },
     "metadata": {},
     "output_type": "display_data"
    },
    {
     "data": {
      "application/vnd.jupyter.widget-view+json": {
       "model_id": "1522a3dd356a41ca98509ec5d5afe915",
       "version_major": 2,
       "version_minor": 0
      },
      "text/plain": [
       "  0%|          | 0/51 [00:00<?, ?it/s]"
      ]
     },
     "metadata": {},
     "output_type": "display_data"
    },
    {
     "data": {
      "application/vnd.jupyter.widget-view+json": {
       "model_id": "e79343f9618749ec8cdf651ca1edf04d",
       "version_major": 2,
       "version_minor": 0
      },
      "text/plain": [
       "  0%|          | 0/45 [00:00<?, ?it/s]"
      ]
     },
     "metadata": {},
     "output_type": "display_data"
    },
    {
     "data": {
      "application/vnd.jupyter.widget-view+json": {
       "model_id": "7ffb4f4981b6409b885d168287c2fb38",
       "version_major": 2,
       "version_minor": 0
      },
      "text/plain": [
       "  0%|          | 0/48 [00:00<?, ?it/s]"
      ]
     },
     "metadata": {},
     "output_type": "display_data"
    },
    {
     "data": {
      "application/vnd.jupyter.widget-view+json": {
       "model_id": "b5ef80f2e75740c5aabe29bdd049ec46",
       "version_major": 2,
       "version_minor": 0
      },
      "text/plain": [
       "  0%|          | 0/37 [00:00<?, ?it/s]"
      ]
     },
     "metadata": {},
     "output_type": "display_data"
    },
    {
     "data": {
      "application/vnd.jupyter.widget-view+json": {
       "model_id": "cbb06734e4484476a8e4bdc60bd5331d",
       "version_major": 2,
       "version_minor": 0
      },
      "text/plain": [
       "  0%|          | 0/47 [00:00<?, ?it/s]"
      ]
     },
     "metadata": {},
     "output_type": "display_data"
    },
    {
     "data": {
      "application/vnd.jupyter.widget-view+json": {
       "model_id": "c2ce3374a7fd40b385a77a74d80b326f",
       "version_major": 2,
       "version_minor": 0
      },
      "text/plain": [
       "  0%|          | 0/50 [00:00<?, ?it/s]"
      ]
     },
     "metadata": {},
     "output_type": "display_data"
    },
    {
     "data": {
      "application/vnd.jupyter.widget-view+json": {
       "model_id": "1163f0a298f4459f8c2b5e8651d3e56e",
       "version_major": 2,
       "version_minor": 0
      },
      "text/plain": [
       "  0%|          | 0/45 [00:00<?, ?it/s]"
      ]
     },
     "metadata": {},
     "output_type": "display_data"
    },
    {
     "data": {
      "application/vnd.jupyter.widget-view+json": {
       "model_id": "40d46b0f93da4fd3ab22e03b7bb6d20b",
       "version_major": 2,
       "version_minor": 0
      },
      "text/plain": [
       "  0%|          | 0/43 [00:00<?, ?it/s]"
      ]
     },
     "metadata": {},
     "output_type": "display_data"
    },
    {
     "data": {
      "application/vnd.jupyter.widget-view+json": {
       "model_id": "c59f7703f31048e980a8b369c1b2322b",
       "version_major": 2,
       "version_minor": 0
      },
      "text/plain": [
       "  0%|          | 0/40 [00:00<?, ?it/s]"
      ]
     },
     "metadata": {},
     "output_type": "display_data"
    },
    {
     "data": {
      "application/vnd.jupyter.widget-view+json": {
       "model_id": "f2e7516585d1408b8f86a4fc857dbe57",
       "version_major": 2,
       "version_minor": 0
      },
      "text/plain": [
       "  0%|          | 0/49 [00:00<?, ?it/s]"
      ]
     },
     "metadata": {},
     "output_type": "display_data"
    }
   ],
   "source": [
    "# Process each game, play, and frame\n",
    "pass_only = get_frames_of_catch(week)\n",
    "final_input_list = []\n",
    "for gid in tqdm(pass_only['gameId'].unique(), leave=True):\n",
    "    game = pass_only.loc[pass_only['gameId'] == gid].copy()\n",
    "    game_plays = plays[plays['gameId'] == gid]\n",
    "    game_tackles = tackles[tackles['gameId'] == gid]\n",
    "\n",
    "    for pid in tqdm(game['playId'].unique(), leave=False):\n",
    "        play = game.loc[game['playId'] == pid].copy()\n",
    "        play_data = game_plays[game_plays['playId'] == pid]\n",
    "        play_tackles = game_tackles[game_tackles['playId'] == pid]  \n",
    "\n",
    "        #Adding distance to ball carrier as a feature in tracking data\n",
    "        play = distance_to_ball(play_data, play)\n",
    "\n",
    "        offense = play[play[\"club\"] == play_data[\"possessionTeam\"].iloc[0]]\n",
    "        defense = play[play[\"club\"] == play_data[\"defensiveTeam\"].iloc[0]]\n",
    "        #print(defense.head())\n",
    "        #print(\"Length of \",len(defense))\n",
    "\n",
    "        offense_input = create_dnn_input_df(offense, \"o\")\n",
    "        defense_input = create_dnn_input_df(defense, \"d\")\n",
    "        player_tracking_data = pd.concat([offense_input, defense_input], axis=1)\n",
    "        final_input_list.append(player_tracking_data)\n",
    "\n",
    "        \n",
    "        \n",
    "\n",
    "        #Adding who tackled the ball carrier\n",
    "        \n",
    "final_input_df = pd.concat(final_input_list)\n",
    "\n",
    "\n",
    "        \n",
    "\n"
   ]
  },
  {
   "cell_type": "code",
   "execution_count": 80,
   "metadata": {},
   "outputs": [],
   "source": [
    "final_input_df.to_csv(index=False, path_or_buf=\"final_input_df.csv\")"
   ]
  },
  {
   "cell_type": "code",
   "execution_count": null,
   "metadata": {},
   "outputs": [],
   "source": []
  }
 ],
 "metadata": {
  "kernelspec": {
   "display_name": "venv",
   "language": "python",
   "name": "python3"
  },
  "language_info": {
   "codemirror_mode": {
    "name": "ipython",
    "version": 3
   },
   "file_extension": ".py",
   "mimetype": "text/x-python",
   "name": "python",
   "nbconvert_exporter": "python",
   "pygments_lexer": "ipython3",
   "version": "3.10.11"
  }
 },
 "nbformat": 4,
 "nbformat_minor": 2
}
