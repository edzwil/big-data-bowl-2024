{
 "cells": [
  {
   "cell_type": "code",
   "execution_count": 2,
   "metadata": {},
   "outputs": [],
   "source": [
    "import os\n",
    "import pandas as pd\n",
    "import numpy as np\n",
    "import matplotlib.pyplot as plt\n",
    "import seaborn as sns\n",
    "from scipy.spatial.distance import cdist\n",
    "from tqdm.notebook import tqdm\n",
    "import IPython"
   ]
  },
  {
   "cell_type": "markdown",
   "metadata": {},
   "source": [
    "Reading in Data"
   ]
  },
  {
   "cell_type": "code",
   "execution_count": 5,
   "metadata": {},
   "outputs": [
    {
     "ename": "FileNotFoundError",
     "evalue": "[Errno 2] No such file or directory: '/Users/emilydzwil/Documents/GitHub/big-data-bowl-2024/nfl-big-data-bowl-2024/players.csv'",
     "output_type": "error",
     "traceback": [
      "\u001b[0;31m---------------------------------------------------------------------------\u001b[0m",
      "\u001b[0;31mFileNotFoundError\u001b[0m                         Traceback (most recent call last)",
      "\u001b[1;32m/Users/emilydzwil/Documents/GitHub/big-data-bowl-2024/Katiesversion.ipynb Cell 3\u001b[0m line \u001b[0;36m3\n\u001b[1;32m      <a href='vscode-notebook-cell:/Users/emilydzwil/Documents/GitHub/big-data-bowl-2024/Katiesversion.ipynb#W2sZmlsZQ%3D%3D?line=0'>1</a>\u001b[0m \u001b[39m\"\"\"reading in files\"\"\"\u001b[39;00m\n\u001b[1;32m      <a href='vscode-notebook-cell:/Users/emilydzwil/Documents/GitHub/big-data-bowl-2024/Katiesversion.ipynb#W2sZmlsZQ%3D%3D?line=1'>2</a>\u001b[0m data_dir \u001b[39m=\u001b[39m os\u001b[39m.\u001b[39mgetcwd() \u001b[39m+\u001b[39m \u001b[39m'\u001b[39m\u001b[39m/nfl-big-data-bowl-2024/\u001b[39m\u001b[39m'\u001b[39m\n\u001b[0;32m----> <a href='vscode-notebook-cell:/Users/emilydzwil/Documents/GitHub/big-data-bowl-2024/Katiesversion.ipynb#W2sZmlsZQ%3D%3D?line=2'>3</a>\u001b[0m players \u001b[39m=\u001b[39m pd\u001b[39m.\u001b[39;49mread_csv(data_dir \u001b[39m+\u001b[39;49m \u001b[39m\"\u001b[39;49m\u001b[39mplayers.csv\u001b[39;49m\u001b[39m\"\u001b[39;49m)\n\u001b[1;32m      <a href='vscode-notebook-cell:/Users/emilydzwil/Documents/GitHub/big-data-bowl-2024/Katiesversion.ipynb#W2sZmlsZQ%3D%3D?line=3'>4</a>\u001b[0m week \u001b[39m=\u001b[39m pd\u001b[39m.\u001b[39mread_csv(data_dir \u001b[39m+\u001b[39m \u001b[39m\"\u001b[39m\u001b[39mtracking_week_1.csv\u001b[39m\u001b[39m\"\u001b[39m)\n\u001b[1;32m      <a href='vscode-notebook-cell:/Users/emilydzwil/Documents/GitHub/big-data-bowl-2024/Katiesversion.ipynb#W2sZmlsZQ%3D%3D?line=4'>5</a>\u001b[0m plays \u001b[39m=\u001b[39m pd\u001b[39m.\u001b[39mread_csv(data_dir \u001b[39m+\u001b[39m \u001b[39m\"\u001b[39m\u001b[39mplays.csv\u001b[39m\u001b[39m\"\u001b[39m)\n",
      "File \u001b[0;32m~/Documents/GitHub/big-data-bowl-2024/.venv/lib/python3.9/site-packages/pandas/io/parsers/readers.py:948\u001b[0m, in \u001b[0;36mread_csv\u001b[0;34m(filepath_or_buffer, sep, delimiter, header, names, index_col, usecols, dtype, engine, converters, true_values, false_values, skipinitialspace, skiprows, skipfooter, nrows, na_values, keep_default_na, na_filter, verbose, skip_blank_lines, parse_dates, infer_datetime_format, keep_date_col, date_parser, date_format, dayfirst, cache_dates, iterator, chunksize, compression, thousands, decimal, lineterminator, quotechar, quoting, doublequote, escapechar, comment, encoding, encoding_errors, dialect, on_bad_lines, delim_whitespace, low_memory, memory_map, float_precision, storage_options, dtype_backend)\u001b[0m\n\u001b[1;32m    935\u001b[0m kwds_defaults \u001b[39m=\u001b[39m _refine_defaults_read(\n\u001b[1;32m    936\u001b[0m     dialect,\n\u001b[1;32m    937\u001b[0m     delimiter,\n\u001b[0;32m   (...)\u001b[0m\n\u001b[1;32m    944\u001b[0m     dtype_backend\u001b[39m=\u001b[39mdtype_backend,\n\u001b[1;32m    945\u001b[0m )\n\u001b[1;32m    946\u001b[0m kwds\u001b[39m.\u001b[39mupdate(kwds_defaults)\n\u001b[0;32m--> 948\u001b[0m \u001b[39mreturn\u001b[39;00m _read(filepath_or_buffer, kwds)\n",
      "File \u001b[0;32m~/Documents/GitHub/big-data-bowl-2024/.venv/lib/python3.9/site-packages/pandas/io/parsers/readers.py:611\u001b[0m, in \u001b[0;36m_read\u001b[0;34m(filepath_or_buffer, kwds)\u001b[0m\n\u001b[1;32m    608\u001b[0m _validate_names(kwds\u001b[39m.\u001b[39mget(\u001b[39m\"\u001b[39m\u001b[39mnames\u001b[39m\u001b[39m\"\u001b[39m, \u001b[39mNone\u001b[39;00m))\n\u001b[1;32m    610\u001b[0m \u001b[39m# Create the parser.\u001b[39;00m\n\u001b[0;32m--> 611\u001b[0m parser \u001b[39m=\u001b[39m TextFileReader(filepath_or_buffer, \u001b[39m*\u001b[39;49m\u001b[39m*\u001b[39;49mkwds)\n\u001b[1;32m    613\u001b[0m \u001b[39mif\u001b[39;00m chunksize \u001b[39mor\u001b[39;00m iterator:\n\u001b[1;32m    614\u001b[0m     \u001b[39mreturn\u001b[39;00m parser\n",
      "File \u001b[0;32m~/Documents/GitHub/big-data-bowl-2024/.venv/lib/python3.9/site-packages/pandas/io/parsers/readers.py:1448\u001b[0m, in \u001b[0;36mTextFileReader.__init__\u001b[0;34m(self, f, engine, **kwds)\u001b[0m\n\u001b[1;32m   1445\u001b[0m     \u001b[39mself\u001b[39m\u001b[39m.\u001b[39moptions[\u001b[39m\"\u001b[39m\u001b[39mhas_index_names\u001b[39m\u001b[39m\"\u001b[39m] \u001b[39m=\u001b[39m kwds[\u001b[39m\"\u001b[39m\u001b[39mhas_index_names\u001b[39m\u001b[39m\"\u001b[39m]\n\u001b[1;32m   1447\u001b[0m \u001b[39mself\u001b[39m\u001b[39m.\u001b[39mhandles: IOHandles \u001b[39m|\u001b[39m \u001b[39mNone\u001b[39;00m \u001b[39m=\u001b[39m \u001b[39mNone\u001b[39;00m\n\u001b[0;32m-> 1448\u001b[0m \u001b[39mself\u001b[39m\u001b[39m.\u001b[39m_engine \u001b[39m=\u001b[39m \u001b[39mself\u001b[39;49m\u001b[39m.\u001b[39;49m_make_engine(f, \u001b[39mself\u001b[39;49m\u001b[39m.\u001b[39;49mengine)\n",
      "File \u001b[0;32m~/Documents/GitHub/big-data-bowl-2024/.venv/lib/python3.9/site-packages/pandas/io/parsers/readers.py:1705\u001b[0m, in \u001b[0;36mTextFileReader._make_engine\u001b[0;34m(self, f, engine)\u001b[0m\n\u001b[1;32m   1703\u001b[0m     \u001b[39mif\u001b[39;00m \u001b[39m\"\u001b[39m\u001b[39mb\u001b[39m\u001b[39m\"\u001b[39m \u001b[39mnot\u001b[39;00m \u001b[39min\u001b[39;00m mode:\n\u001b[1;32m   1704\u001b[0m         mode \u001b[39m+\u001b[39m\u001b[39m=\u001b[39m \u001b[39m\"\u001b[39m\u001b[39mb\u001b[39m\u001b[39m\"\u001b[39m\n\u001b[0;32m-> 1705\u001b[0m \u001b[39mself\u001b[39m\u001b[39m.\u001b[39mhandles \u001b[39m=\u001b[39m get_handle(\n\u001b[1;32m   1706\u001b[0m     f,\n\u001b[1;32m   1707\u001b[0m     mode,\n\u001b[1;32m   1708\u001b[0m     encoding\u001b[39m=\u001b[39;49m\u001b[39mself\u001b[39;49m\u001b[39m.\u001b[39;49moptions\u001b[39m.\u001b[39;49mget(\u001b[39m\"\u001b[39;49m\u001b[39mencoding\u001b[39;49m\u001b[39m\"\u001b[39;49m, \u001b[39mNone\u001b[39;49;00m),\n\u001b[1;32m   1709\u001b[0m     compression\u001b[39m=\u001b[39;49m\u001b[39mself\u001b[39;49m\u001b[39m.\u001b[39;49moptions\u001b[39m.\u001b[39;49mget(\u001b[39m\"\u001b[39;49m\u001b[39mcompression\u001b[39;49m\u001b[39m\"\u001b[39;49m, \u001b[39mNone\u001b[39;49;00m),\n\u001b[1;32m   1710\u001b[0m     memory_map\u001b[39m=\u001b[39;49m\u001b[39mself\u001b[39;49m\u001b[39m.\u001b[39;49moptions\u001b[39m.\u001b[39;49mget(\u001b[39m\"\u001b[39;49m\u001b[39mmemory_map\u001b[39;49m\u001b[39m\"\u001b[39;49m, \u001b[39mFalse\u001b[39;49;00m),\n\u001b[1;32m   1711\u001b[0m     is_text\u001b[39m=\u001b[39;49mis_text,\n\u001b[1;32m   1712\u001b[0m     errors\u001b[39m=\u001b[39;49m\u001b[39mself\u001b[39;49m\u001b[39m.\u001b[39;49moptions\u001b[39m.\u001b[39;49mget(\u001b[39m\"\u001b[39;49m\u001b[39mencoding_errors\u001b[39;49m\u001b[39m\"\u001b[39;49m, \u001b[39m\"\u001b[39;49m\u001b[39mstrict\u001b[39;49m\u001b[39m\"\u001b[39;49m),\n\u001b[1;32m   1713\u001b[0m     storage_options\u001b[39m=\u001b[39;49m\u001b[39mself\u001b[39;49m\u001b[39m.\u001b[39;49moptions\u001b[39m.\u001b[39;49mget(\u001b[39m\"\u001b[39;49m\u001b[39mstorage_options\u001b[39;49m\u001b[39m\"\u001b[39;49m, \u001b[39mNone\u001b[39;49;00m),\n\u001b[1;32m   1714\u001b[0m )\n\u001b[1;32m   1715\u001b[0m \u001b[39massert\u001b[39;00m \u001b[39mself\u001b[39m\u001b[39m.\u001b[39mhandles \u001b[39mis\u001b[39;00m \u001b[39mnot\u001b[39;00m \u001b[39mNone\u001b[39;00m\n\u001b[1;32m   1716\u001b[0m f \u001b[39m=\u001b[39m \u001b[39mself\u001b[39m\u001b[39m.\u001b[39mhandles\u001b[39m.\u001b[39mhandle\n",
      "File \u001b[0;32m~/Documents/GitHub/big-data-bowl-2024/.venv/lib/python3.9/site-packages/pandas/io/common.py:863\u001b[0m, in \u001b[0;36mget_handle\u001b[0;34m(path_or_buf, mode, encoding, compression, memory_map, is_text, errors, storage_options)\u001b[0m\n\u001b[1;32m    858\u001b[0m \u001b[39melif\u001b[39;00m \u001b[39misinstance\u001b[39m(handle, \u001b[39mstr\u001b[39m):\n\u001b[1;32m    859\u001b[0m     \u001b[39m# Check whether the filename is to be opened in binary mode.\u001b[39;00m\n\u001b[1;32m    860\u001b[0m     \u001b[39m# Binary mode does not support 'encoding' and 'newline'.\u001b[39;00m\n\u001b[1;32m    861\u001b[0m     \u001b[39mif\u001b[39;00m ioargs\u001b[39m.\u001b[39mencoding \u001b[39mand\u001b[39;00m \u001b[39m\"\u001b[39m\u001b[39mb\u001b[39m\u001b[39m\"\u001b[39m \u001b[39mnot\u001b[39;00m \u001b[39min\u001b[39;00m ioargs\u001b[39m.\u001b[39mmode:\n\u001b[1;32m    862\u001b[0m         \u001b[39m# Encoding\u001b[39;00m\n\u001b[0;32m--> 863\u001b[0m         handle \u001b[39m=\u001b[39m \u001b[39mopen\u001b[39;49m(\n\u001b[1;32m    864\u001b[0m             handle,\n\u001b[1;32m    865\u001b[0m             ioargs\u001b[39m.\u001b[39;49mmode,\n\u001b[1;32m    866\u001b[0m             encoding\u001b[39m=\u001b[39;49mioargs\u001b[39m.\u001b[39;49mencoding,\n\u001b[1;32m    867\u001b[0m             errors\u001b[39m=\u001b[39;49merrors,\n\u001b[1;32m    868\u001b[0m             newline\u001b[39m=\u001b[39;49m\u001b[39m\"\u001b[39;49m\u001b[39m\"\u001b[39;49m,\n\u001b[1;32m    869\u001b[0m         )\n\u001b[1;32m    870\u001b[0m     \u001b[39melse\u001b[39;00m:\n\u001b[1;32m    871\u001b[0m         \u001b[39m# Binary mode\u001b[39;00m\n\u001b[1;32m    872\u001b[0m         handle \u001b[39m=\u001b[39m \u001b[39mopen\u001b[39m(handle, ioargs\u001b[39m.\u001b[39mmode)\n",
      "\u001b[0;31mFileNotFoundError\u001b[0m: [Errno 2] No such file or directory: '/Users/emilydzwil/Documents/GitHub/big-data-bowl-2024/nfl-big-data-bowl-2024/players.csv'"
     ]
    }
   ],
   "source": [
    "\"\"\"reading in files\"\"\"\n",
    "data_dir = os.getcwd() + '/nfl-big-data-bowl-2024/'\n",
    "players = pd.read_csv(data_dir + \"players.csv\")\n",
    "week = pd.read_csv(data_dir + \"tracking_week_1.csv\")\n",
    "plays = pd.read_csv(data_dir + \"plays.csv\")\n",
    "tackles = pd.read_csv(data_dir + \"tackles.csv\")\n",
    "\n",
    "\n",
    "# join player positioning information onto a week's worth of tracking data \n",
    "week = week.merge(players.loc[:, ['nflId', 'position']], how='left')\n",
    "week.shape"
   ]
  },
  {
   "cell_type": "code",
   "execution_count": null,
   "metadata": {},
   "outputs": [],
   "source": [
    "\"\"\" Matts reading in files \"\"\"\n",
    "def load_dataset(dataset_name):\n",
    "    \"\"\"\n",
    "    Download a specific dataset from data directory.\n",
    "\n",
    "    Parameters:\n",
    "    - dataset_name: Name of the dataset to load\n",
    "    \"\"\"\n",
    "    return pd.read_csv(f\"C:\\\\Users\\\\mattd\\\\Documents\\\\GitHub\\\\big-data-bowl-2024\\\\data\\\\{dataset_name}.csv\")\n",
    "\n",
    "# Read In csvs\n",
    "plays = load_dataset(\"plays\")\n",
    "players = load_dataset(\"players\")\n",
    "week = load_dataset(\"tracking_week_1\")\n",
    "tackles = load_dataset(\"tackles\")\n",
    "week = week.merge(players.loc[:, ['nflId', 'position']], how='left')\n",
    "week.shape"
   ]
  },
  {
   "cell_type": "markdown",
   "metadata": {},
   "source": [
    "Defining Functions for feature engineering at each level\n",
    "\n",
    "(Just put in ones I thought of, if it has #TO DO: over it then it isnt complete/not started)"
   ]
  },
  {
   "cell_type": "code",
   "execution_count": 3,
   "metadata": {},
   "outputs": [],
   "source": [
    "\"\"\"Game level functions\"\"\"\n",
    "\n",
    "def get_frames_of_catch(games):\n",
    "    \"\"\"\n",
    "    Returns only the frame of the play where the ball is caught.\n",
    "\n",
    "    Parameters:\n",
    "    - games: Dataset of games\n",
    "\n",
    "    Returns:\n",
    "    - frame: The tracking data of only the data where the ball is caught\n",
    "    \"\"\"\n",
    "    return games.loc[games['event'] == 'pass_outcome_caught'].copy()"
   ]
  },
  {
   "cell_type": "code",
   "execution_count": 4,
   "metadata": {},
   "outputs": [],
   "source": [
    "\"\"\"Frame level functions\"\"\"\n",
    "def distance_to_ball(play_data, frame, ball_carrier_id):\n",
    "    \"\"\"\n",
    "    Calculates the distance to the ball for each player per frame in a play.\n",
    "\n",
    "    Parameters:\n",
    "    - dataset_name: Name of the dataset to load\n",
    "    \"\"\"\n",
    "    ball_carrier = frame[frame[\"nflId\"] == ball_carrier_id]\n",
    "    carr_x = ball_carrier[\"x\"].values[0]\n",
    "    carr_y = ball_carrier[\"y\"].values[0]\n",
    "    frame['distance_to_ball_carrier'] = cdist(frame[['x', 'y']], [[carr_x, carr_y]], metric='euclidean')\n",
    "    frame['ballCarrierId'] = ball_carrier_id  # Include ballCarrierId in the frame\n",
    "    return frame\n",
    "\n",
    "def who_tackles(play_data, frame):\n",
    "    \"\"\"\n",
    "    Adds who tackles the ball carrier to the tracking data set.\n",
    "\n",
    "    Parameters:\n",
    "    - dataset_name: Name of the dataset to load\n",
    "    \"\"\"\n",
    "    ball_carrier_id = play_data[\"ballCarrierId\"].iloc[0]\n",
    "    ball_carrier = frame[frame[\"nflId\"] == ball_carrier_id]\n",
    "    carr_x = ball_carrier[\"x\"].values[0]\n",
    "    carr_y = ball_carrier[\"y\"].values[0]\n",
    "    frame['distance_to_ball_carrier'] = cdist(frame[['x', 'y']], [[carr_x, carr_y]], metric='euclidean')\n",
    "    return frame\n",
    "\n",
    "def create_dnn_input_df(frames, side_of_ball):\n",
    "    \"\"\"\n",
    "    Creates the input dataframe for the DNN model.\n",
    "\n",
    "    Parameters:\n",
    "    - frames: Name of the dataset to load\n",
    "    \"\"\"\n",
    "    sorted = frames.sort_values(by='distance_to_ball_carrier').reset_index(drop=True)\n",
    "    \n",
    "    input_df = pd.DataFrame()\n",
    "    # Iterate over each row in the sorted DataFrame\n",
    "    for idx, row in sorted.iterrows():\n",
    "        # Extract player's x and y values\n",
    "        x = row['x']\n",
    "        y = row['y']\n",
    "        s = row['s']\n",
    "        a = row['a']\n",
    "        dis = row['dis']\n",
    "        o = row['o']\n",
    "        dir = row['dir']\n",
    "        distance_to_ball_carrier = row['distance_to_ball_carrier']\n",
    "\n",
    "\n",
    "        # Add x_i columns to the new DataFrame\n",
    "        input_df.loc[0,f'{side_of_ball}_x_{idx}'] = x\n",
    "        input_df.loc[0,f'{side_of_ball}_y_{idx}'] = y\n",
    "        input_df.loc[0,f'{side_of_ball}_s_{idx}'] = s\n",
    "        input_df.loc[0,f'{side_of_ball}_a_{idx}'] = a\n",
    "        input_df.loc[0,f'{side_of_ball}_dis_{idx}'] = dis\n",
    "        input_df.loc[0,f'{side_of_ball}_o_{idx}'] = o\n",
    "        input_df.loc[0,f'{side_of_ball}_dir_{idx}'] = dir\n",
    "        input_df.loc[0,f'{side_of_ball}_distance_to_ball_carrier_{idx}'] = distance_to_ball_carrier\n",
    "\n",
    "    # Concatenate the original DataFrame with the new x_i DataFrame\n",
    "    return input_df\n",
    "    \n",
    "\n",
    "\n",
    "def calculate_nearby_players(play, radius=5):\n",
    "    \n",
    "    \"\"\"\n",
    "    Calculate the number of defenders and blockers within a specified radius of the ball carrier.\n",
    "    \n",
    "    Parameters:\n",
    "    play - DataFrame containing play data including player positions and teams\n",
    "    radius - Distance within which a player is considered 'nearby' ( 5 yards)\n",
    "    \n",
    "    Returns:\n",
    "    DataFrame with additional columns 'defenders_nearby' and 'blockers_nearby'\n",
    "    \"\"\"\n",
    "    \n",
    "    ball_carrier_id = play[\"ballCarrierId\"].iloc[0]\n",
    "    ball_carrier = play[play[\"nflId\"] == ball_carrier_id]\n",
    "\n",
    "    # Calculate distances from the ball carrier to all players\n",
    "    play['distance_to_carrier'] = np.sqrt((play['x'] - ball_carrier['x'].values[0])**2 + (play['y'] - ball_carrier['y'].values[0])**2)\n",
    "\n",
    "    # Identify defenders and blockers\n",
    "    is_defender = (play['club'] != ball_carrier['club'].values[0]) & (play['nflId'] != ball_carrier_id)\n",
    "    is_blocker = (play['club'] == ball_carrier['club'].values[0]) & (play['nflId'] != ball_carrier_id)\n",
    "\n",
    "    # Count nearby defenders and blockers\n",
    "    defenders_nearby = play[is_defender & (play['distance_to_carrier'] < radius)].groupby(['gameId', 'playId']).nflId.nunique().rename('defenders_nearby')\n",
    "    blockers_nearby = play[is_blocker & (play['distance_to_carrier'] < radius)].groupby(['gameId', 'playId']).nflId.nunique().rename('blockers_nearby')\n",
    "\n",
    "    return defenders_nearby, blockers_nearby"
   ]
  },
  {
   "cell_type": "code",
   "execution_count": null,
   "metadata": {},
   "outputs": [],
   "source": [
    "#do not run until fixed:\n",
    "\n",
    "#ERROR FOR BOTH:\n",
    "\n",
    "1. It runs but cannot get it to merge in the \"Process each game, play, and frame\" portion (view 2 comments there)\n",
    "2. ValueError: The column label 'gameId' is not unique. Merge issue????\n",
    "\n",
    "    \n",
    "def calculate_snap_to_catch_time(plays, tracking):\n",
    "    \"\"\"\n",
    "    Calculates the time in milliseconds from ball_snap to pass_outcome_caught for each play.\n",
    "\n",
    "    Parameters:\n",
    "    - plays: DataFrame containing play data\n",
    "    - tracking: DataFrame containing tracking data\n",
    "\n",
    "    Returns:\n",
    "    - DataFrame with gameId, playId, and time difference in milliseconds\n",
    "    \"\"\"\n",
    "    time_diffs = []\n",
    "\n",
    "    for pid in plays['playId'].unique():\n",
    "        # Get the gameId for the current playId from the plays DataFrame\n",
    "        gid = plays[plays['playId'] == pid]['gameId'].iloc[0]\n",
    "        \n",
    "        play_tracking = tracking[tracking['playId'] == pid]\n",
    "\n",
    "        snap_tracking = play_tracking[play_tracking['event'] == 'ball_snap']\n",
    "        catch_tracking = play_tracking[play_tracking['event'] == 'pass_outcome_caught']\n",
    "\n",
    "        if not snap_tracking.empty and not catch_tracking.empty:\n",
    "            snap_time = pd.to_datetime(snap_tracking['time'].iloc[0])\n",
    "            catch_time = pd.to_datetime(catch_tracking['time'].iloc[0])\n",
    "\n",
    "            time_diff = (catch_time - snap_time).total_seconds() * 1000\n",
    "            time_diffs.append({'gameId': gid, 'playId': pid, 'time_diff_ms': time_diff})\n",
    "        else:\n",
    "            time_diffs.append({'gameId': gid, 'playId': pid, 'time_diff_ms': None})\n",
    "\n",
    "    return pd.DataFrame(time_diffs)\n",
    "\n",
    "\n",
    "def merge_play_data(final_df, plays_df, columns_to_merge):\n",
    "    \"\"\"\n",
    "    Merges specified columns from the plays DataFrame into the final DataFrame.\n",
    "\n",
    "    Parameters:\n",
    "    - final_df: The final DataFrame to which the columns will be added.\n",
    "    - plays_df: The DataFrame containing play data.\n",
    "    - columns_to_merge: List of column names to be merged from plays_df to final_df.\n",
    "\n",
    "    Returns:\n",
    "    - DataFrame with merged columns.\n",
    "    \"\"\"\n",
    "    # Select required columns from plays DataFrame along with gameId and playId\n",
    "    plays_subset = plays_df[['gameId', 'playId'] + columns_to_merge]\n",
    "\n",
    "    # Merge the plays data with the final DataFrame\n",
    "    merged_df = final_df.merge(plays_subset, on=['gameId', 'playId'], how='left')\n",
    "    return merged_df\n",
    "\n",
    "# Usage of the function\n",
    "columns_to_add = ['quarter', 'down', 'yardsToGo', 'gameClock', 'passLength', 'expectedPoints']\n",
    "final_input_df = merge_play_data(final_input_df, plays, columns_to_add)\n",
    "\n"
   ]
  },
  {
   "cell_type": "markdown",
   "metadata": {},
   "source": [
    "Iterating through each Play"
   ]
  },
  {
   "cell_type": "code",
   "execution_count": 5,
   "metadata": {},
   "outputs": [
    {
     "data": {
      "application/vnd.jupyter.widget-view+json": {
       "model_id": "505681ca0bb642edbac7c02fa3ce5a46",
       "version_major": 2,
       "version_minor": 0
      },
      "text/plain": [
       "HBox(children=(HTML(value=''), FloatProgress(value=0.0, max=16.0), HTML(value='')))"
      ]
     },
     "metadata": {},
     "output_type": "display_data"
    },
    {
     "data": {
      "application/vnd.jupyter.widget-view+json": {
       "model_id": "",
       "version_major": 2,
       "version_minor": 0
      },
      "text/plain": [
       "HBox(children=(HTML(value=''), FloatProgress(value=0.0, max=52.0), HTML(value='')))"
      ]
     },
     "metadata": {},
     "output_type": "display_data"
    },
    {
     "data": {
      "application/vnd.jupyter.widget-view+json": {
       "model_id": "",
       "version_major": 2,
       "version_minor": 0
      },
      "text/plain": [
       "HBox(children=(HTML(value=''), FloatProgress(value=0.0, max=40.0), HTML(value='')))"
      ]
     },
     "metadata": {},
     "output_type": "display_data"
    },
    {
     "data": {
      "application/vnd.jupyter.widget-view+json": {
       "model_id": "",
       "version_major": 2,
       "version_minor": 0
      },
      "text/plain": [
       "HBox(children=(HTML(value=''), FloatProgress(value=0.0, max=32.0), HTML(value='')))"
      ]
     },
     "metadata": {},
     "output_type": "display_data"
    },
    {
     "data": {
      "application/vnd.jupyter.widget-view+json": {
       "model_id": "",
       "version_major": 2,
       "version_minor": 0
      },
      "text/plain": [
       "HBox(children=(HTML(value=''), FloatProgress(value=0.0, max=22.0), HTML(value='')))"
      ]
     },
     "metadata": {},
     "output_type": "display_data"
    },
    {
     "data": {
      "application/vnd.jupyter.widget-view+json": {
       "model_id": "",
       "version_major": 2,
       "version_minor": 0
      },
      "text/plain": [
       "HBox(children=(HTML(value=''), FloatProgress(value=0.0, max=50.0), HTML(value='')))"
      ]
     },
     "metadata": {},
     "output_type": "display_data"
    },
    {
     "data": {
      "application/vnd.jupyter.widget-view+json": {
       "model_id": "",
       "version_major": 2,
       "version_minor": 0
      },
      "text/plain": [
       "HBox(children=(HTML(value=''), FloatProgress(value=0.0, max=39.0), HTML(value='')))"
      ]
     },
     "metadata": {},
     "output_type": "display_data"
    },
    {
     "data": {
      "application/vnd.jupyter.widget-view+json": {
       "model_id": "",
       "version_major": 2,
       "version_minor": 0
      },
      "text/plain": [
       "HBox(children=(HTML(value=''), FloatProgress(value=0.0, max=51.0), HTML(value='')))"
      ]
     },
     "metadata": {},
     "output_type": "display_data"
    },
    {
     "data": {
      "application/vnd.jupyter.widget-view+json": {
       "model_id": "",
       "version_major": 2,
       "version_minor": 0
      },
      "text/plain": [
       "HBox(children=(HTML(value=''), FloatProgress(value=0.0, max=45.0), HTML(value='')))"
      ]
     },
     "metadata": {},
     "output_type": "display_data"
    },
    {
     "data": {
      "application/vnd.jupyter.widget-view+json": {
       "model_id": "",
       "version_major": 2,
       "version_minor": 0
      },
      "text/plain": [
       "HBox(children=(HTML(value=''), FloatProgress(value=0.0, max=48.0), HTML(value='')))"
      ]
     },
     "metadata": {},
     "output_type": "display_data"
    },
    {
     "data": {
      "application/vnd.jupyter.widget-view+json": {
       "model_id": "",
       "version_major": 2,
       "version_minor": 0
      },
      "text/plain": [
       "HBox(children=(HTML(value=''), FloatProgress(value=0.0, max=37.0), HTML(value='')))"
      ]
     },
     "metadata": {},
     "output_type": "display_data"
    },
    {
     "data": {
      "application/vnd.jupyter.widget-view+json": {
       "model_id": "",
       "version_major": 2,
       "version_minor": 0
      },
      "text/plain": [
       "HBox(children=(HTML(value=''), FloatProgress(value=0.0, max=47.0), HTML(value='')))"
      ]
     },
     "metadata": {},
     "output_type": "display_data"
    },
    {
     "data": {
      "application/vnd.jupyter.widget-view+json": {
       "model_id": "",
       "version_major": 2,
       "version_minor": 0
      },
      "text/plain": [
       "HBox(children=(HTML(value=''), FloatProgress(value=0.0, max=50.0), HTML(value='')))"
      ]
     },
     "metadata": {},
     "output_type": "display_data"
    },
    {
     "data": {
      "application/vnd.jupyter.widget-view+json": {
       "model_id": "",
       "version_major": 2,
       "version_minor": 0
      },
      "text/plain": [
       "HBox(children=(HTML(value=''), FloatProgress(value=0.0, max=45.0), HTML(value='')))"
      ]
     },
     "metadata": {},
     "output_type": "display_data"
    },
    {
     "data": {
      "application/vnd.jupyter.widget-view+json": {
       "model_id": "",
       "version_major": 2,
       "version_minor": 0
      },
      "text/plain": [
       "HBox(children=(HTML(value=''), FloatProgress(value=0.0, max=43.0), HTML(value='')))"
      ]
     },
     "metadata": {},
     "output_type": "display_data"
    },
    {
     "data": {
      "application/vnd.jupyter.widget-view+json": {
       "model_id": "",
       "version_major": 2,
       "version_minor": 0
      },
      "text/plain": [
       "HBox(children=(HTML(value=''), FloatProgress(value=0.0, max=40.0), HTML(value='')))"
      ]
     },
     "metadata": {},
     "output_type": "display_data"
    },
    {
     "data": {
      "application/vnd.jupyter.widget-view+json": {
       "model_id": "",
       "version_major": 2,
       "version_minor": 0
      },
      "text/plain": [
       "HBox(children=(HTML(value=''), FloatProgress(value=0.0, max=49.0), HTML(value='')))"
      ]
     },
     "metadata": {},
     "output_type": "display_data"
    },
    {
     "name": "stdout",
     "output_type": "stream",
     "text": [
      "\n"
     ]
    }
   ],
   "source": [
    "# Process each game, play, and frame\n",
    "pass_only = get_frames_of_catch(week)\n",
    "#time_diffs_df = calculate_snap_to_catch_time(plays, week)-- this was for the calculate_snap_to_catch_time\n",
    "\n",
    "\n",
    "final_input_list = []\n",
    "for gid in tqdm(pass_only['gameId'].unique(), leave=True):\n",
    "    \n",
    "    # print(f\"Processing Game ID: {gid}\")  # Printing Game ID \n",
    "    game = pass_only.loc[pass_only['gameId'] == gid].copy()\n",
    "    game_plays = plays[plays['gameId'] == gid]\n",
    "    game_tackles = tackles[tackles['gameId'] == gid]\n",
    "\n",
    "    for pid in tqdm(game['playId'].unique(), leave=False):\n",
    "        #print(f\"  Processing Play ID: {pid}\")  # Print Play ID\n",
    "        play = game.loc[game['playId'] == pid].copy()\n",
    "        play_data = game_plays[game_plays['playId'] == pid]\n",
    "        ball_carrier_id = play_data[\"ballCarrierId\"].iloc[0]  # Extract ballCarrierId\n",
    "\n",
    "        \n",
    "        #print(\"Columns in play_data:\", play_data.columns)\n",
    "\n",
    "\n",
    "        #Adding distance to ball carrier as a feature in tracking data\n",
    "        play = distance_to_ball(play_data, play, ball_carrier_id)  # Pass ballCarrierId\n",
    "\n",
    "        \n",
    "        #print(\"Columns in play after distance_to_ball:\", play.columns)\n",
    "\n",
    "            \n",
    "        defenders_nearby, blockers_nearby = calculate_nearby_players(play)\n",
    "\n",
    "        offense = play[play[\"club\"] == play_data[\"possessionTeam\"].iloc[0]]\n",
    "        defense = play[play[\"club\"] == play_data[\"defensiveTeam\"].iloc[0]]\n",
    "        #print(defense.head())\n",
    "        #print(\"Length of \",len(defense))\n",
    "        #print(\"Length of \",len(offense))\n",
    "\n",
    "\n",
    "        offense_input = create_dnn_input_df(offense, \"o\")\n",
    "        defense_input = create_dnn_input_df(defense, \"d\")\n",
    "        \n",
    "        # Including the game and play IDs in the offense and defense dataframes\n",
    "        offense_input['gameId'] = gid\n",
    "        defense_input['gameId'] = gid\n",
    "        offense_input['playId'] = pid\n",
    "        defense_input['playId'] = pid\n",
    "        offense_input['nflid'] = pid\n",
    "        defense_input['nflid'] = pid\n",
    "        \n",
    "        player_tracking_data = pd.concat([offense_input, defense_input], axis=1)\n",
    "        player_tracking_data['defenders_nearby'] = defenders_nearby.get((gid, pid), 0)\n",
    "        player_tracking_data['blockers_nearby'] = blockers_nearby.get((gid, pid), 0)\n",
    "        \n",
    "        \n",
    "        final_input_list.append(player_tracking_data)\n",
    "\n",
    "        \n",
    "final_input_df = pd.concat(final_input_list, ignore_index=True)\n",
    "\n",
    "#this was for the calculate_snap_to_catch_time\n",
    "#final_input_df = final_input_df.merge(time_diffs_df, on=['gameId', 'playId'], how='left')\n"
   ]
  },
  {
   "cell_type": "code",
   "execution_count": null,
   "metadata": {},
   "outputs": [],
   "source": [
    "final_input_df.to_csv(index=False, path_or_buf=\"final_input_df.csv\")"
   ]
  },
  {
   "cell_type": "code",
   "execution_count": null,
   "metadata": {},
   "outputs": [],
   "source": [
    "final_input_df.columns.tolist() \n"
   ]
  },
  {
   "cell_type": "code",
   "execution_count": 6,
   "metadata": {},
   "outputs": [
    {
     "data": {
      "text/html": [
       "<div>\n",
       "<style scoped>\n",
       "    .dataframe tbody tr th:only-of-type {\n",
       "        vertical-align: middle;\n",
       "    }\n",
       "\n",
       "    .dataframe tbody tr th {\n",
       "        vertical-align: top;\n",
       "    }\n",
       "\n",
       "    .dataframe thead th {\n",
       "        text-align: right;\n",
       "    }\n",
       "</style>\n",
       "<table border=\"1\" class=\"dataframe\">\n",
       "  <thead>\n",
       "    <tr style=\"text-align: right;\">\n",
       "      <th></th>\n",
       "      <th>o_x_0</th>\n",
       "      <th>o_y_0</th>\n",
       "      <th>o_s_0</th>\n",
       "      <th>o_a_0</th>\n",
       "      <th>o_dis_0</th>\n",
       "      <th>o_o_0</th>\n",
       "      <th>o_dir_0</th>\n",
       "      <th>o_distance_to_ball_carrier_0</th>\n",
       "      <th>o_x_1</th>\n",
       "      <th>o_y_1</th>\n",
       "      <th>...</th>\n",
       "      <th>d_a_10</th>\n",
       "      <th>d_dis_10</th>\n",
       "      <th>d_o_10</th>\n",
       "      <th>d_dir_10</th>\n",
       "      <th>d_distance_to_ball_carrier_10</th>\n",
       "      <th>gameId</th>\n",
       "      <th>playId</th>\n",
       "      <th>nflid</th>\n",
       "      <th>defenders_nearby</th>\n",
       "      <th>blockers_nearby</th>\n",
       "    </tr>\n",
       "  </thead>\n",
       "  <tbody>\n",
       "    <tr>\n",
       "      <th>0</th>\n",
       "      <td>79.85</td>\n",
       "      <td>35.59</td>\n",
       "      <td>4.61</td>\n",
       "      <td>4.82</td>\n",
       "      <td>0.45</td>\n",
       "      <td>114.27</td>\n",
       "      <td>202.20</td>\n",
       "      <td>0.0</td>\n",
       "      <td>74.99</td>\n",
       "      <td>29.43</td>\n",
       "      <td>...</td>\n",
       "      <td>4.14</td>\n",
       "      <td>0.27</td>\n",
       "      <td>331.57</td>\n",
       "      <td>278.33</td>\n",
       "      <td>29.415605</td>\n",
       "      <td>2022090800</td>\n",
       "      <td>56</td>\n",
       "      <td>56</td>\n",
       "      <td>2</td>\n",
       "      <td>0</td>\n",
       "    </tr>\n",
       "    <tr>\n",
       "      <th>1</th>\n",
       "      <td>67.89</td>\n",
       "      <td>38.41</td>\n",
       "      <td>4.75</td>\n",
       "      <td>1.46</td>\n",
       "      <td>0.47</td>\n",
       "      <td>52.19</td>\n",
       "      <td>335.55</td>\n",
       "      <td>0.0</td>\n",
       "      <td>68.74</td>\n",
       "      <td>32.54</td>\n",
       "      <td>...</td>\n",
       "      <td>2.12</td>\n",
       "      <td>0.39</td>\n",
       "      <td>82.35</td>\n",
       "      <td>239.91</td>\n",
       "      <td>35.097602</td>\n",
       "      <td>2022090800</td>\n",
       "      <td>122</td>\n",
       "      <td>122</td>\n",
       "      <td>2</td>\n",
       "      <td>0</td>\n",
       "    </tr>\n",
       "    <tr>\n",
       "      <th>2</th>\n",
       "      <td>51.68</td>\n",
       "      <td>27.87</td>\n",
       "      <td>5.00</td>\n",
       "      <td>1.40</td>\n",
       "      <td>0.50</td>\n",
       "      <td>117.58</td>\n",
       "      <td>226.52</td>\n",
       "      <td>0.0</td>\n",
       "      <td>60.26</td>\n",
       "      <td>25.86</td>\n",
       "      <td>...</td>\n",
       "      <td>4.05</td>\n",
       "      <td>0.61</td>\n",
       "      <td>321.01</td>\n",
       "      <td>314.26</td>\n",
       "      <td>16.807335</td>\n",
       "      <td>2022090800</td>\n",
       "      <td>167</td>\n",
       "      <td>167</td>\n",
       "      <td>1</td>\n",
       "      <td>0</td>\n",
       "    </tr>\n",
       "    <tr>\n",
       "      <th>3</th>\n",
       "      <td>37.68</td>\n",
       "      <td>46.87</td>\n",
       "      <td>7.26</td>\n",
       "      <td>2.74</td>\n",
       "      <td>0.74</td>\n",
       "      <td>93.99</td>\n",
       "      <td>331.40</td>\n",
       "      <td>0.0</td>\n",
       "      <td>47.86</td>\n",
       "      <td>47.24</td>\n",
       "      <td>...</td>\n",
       "      <td>0.78</td>\n",
       "      <td>0.16</td>\n",
       "      <td>1.30</td>\n",
       "      <td>27.20</td>\n",
       "      <td>37.464150</td>\n",
       "      <td>2022090800</td>\n",
       "      <td>212</td>\n",
       "      <td>212</td>\n",
       "      <td>1</td>\n",
       "      <td>0</td>\n",
       "    </tr>\n",
       "    <tr>\n",
       "      <th>4</th>\n",
       "      <td>19.30</td>\n",
       "      <td>44.85</td>\n",
       "      <td>8.43</td>\n",
       "      <td>0.93</td>\n",
       "      <td>0.85</td>\n",
       "      <td>315.91</td>\n",
       "      <td>304.27</td>\n",
       "      <td>0.0</td>\n",
       "      <td>33.24</td>\n",
       "      <td>32.57</td>\n",
       "      <td>...</td>\n",
       "      <td>1.18</td>\n",
       "      <td>0.07</td>\n",
       "      <td>319.93</td>\n",
       "      <td>246.50</td>\n",
       "      <td>30.755188</td>\n",
       "      <td>2022090800</td>\n",
       "      <td>236</td>\n",
       "      <td>236</td>\n",
       "      <td>0</td>\n",
       "      <td>0</td>\n",
       "    </tr>\n",
       "    <tr>\n",
       "      <th>...</th>\n",
       "      <td>...</td>\n",
       "      <td>...</td>\n",
       "      <td>...</td>\n",
       "      <td>...</td>\n",
       "      <td>...</td>\n",
       "      <td>...</td>\n",
       "      <td>...</td>\n",
       "      <td>...</td>\n",
       "      <td>...</td>\n",
       "      <td>...</td>\n",
       "      <td>...</td>\n",
       "      <td>...</td>\n",
       "      <td>...</td>\n",
       "      <td>...</td>\n",
       "      <td>...</td>\n",
       "      <td>...</td>\n",
       "      <td>...</td>\n",
       "      <td>...</td>\n",
       "      <td>...</td>\n",
       "      <td>...</td>\n",
       "      <td>...</td>\n",
       "    </tr>\n",
       "    <tr>\n",
       "      <th>685</th>\n",
       "      <td>80.24</td>\n",
       "      <td>39.11</td>\n",
       "      <td>0.32</td>\n",
       "      <td>3.83</td>\n",
       "      <td>0.04</td>\n",
       "      <td>168.11</td>\n",
       "      <td>354.59</td>\n",
       "      <td>0.0</td>\n",
       "      <td>87.61</td>\n",
       "      <td>25.38</td>\n",
       "      <td>...</td>\n",
       "      <td>4.06</td>\n",
       "      <td>0.47</td>\n",
       "      <td>109.09</td>\n",
       "      <td>136.58</td>\n",
       "      <td>34.780549</td>\n",
       "      <td>2022091200</td>\n",
       "      <td>3596</td>\n",
       "      <td>3596</td>\n",
       "      <td>1</td>\n",
       "      <td>0</td>\n",
       "    </tr>\n",
       "    <tr>\n",
       "      <th>686</th>\n",
       "      <td>72.33</td>\n",
       "      <td>41.04</td>\n",
       "      <td>2.50</td>\n",
       "      <td>1.77</td>\n",
       "      <td>0.24</td>\n",
       "      <td>33.31</td>\n",
       "      <td>336.17</td>\n",
       "      <td>0.0</td>\n",
       "      <td>63.69</td>\n",
       "      <td>45.32</td>\n",
       "      <td>...</td>\n",
       "      <td>4.48</td>\n",
       "      <td>0.55</td>\n",
       "      <td>342.72</td>\n",
       "      <td>298.57</td>\n",
       "      <td>32.704350</td>\n",
       "      <td>2022091200</td>\n",
       "      <td>3628</td>\n",
       "      <td>3628</td>\n",
       "      <td>2</td>\n",
       "      <td>0</td>\n",
       "    </tr>\n",
       "    <tr>\n",
       "      <th>687</th>\n",
       "      <td>68.01</td>\n",
       "      <td>38.45</td>\n",
       "      <td>5.95</td>\n",
       "      <td>1.20</td>\n",
       "      <td>0.60</td>\n",
       "      <td>24.30</td>\n",
       "      <td>348.39</td>\n",
       "      <td>0.0</td>\n",
       "      <td>74.56</td>\n",
       "      <td>30.32</td>\n",
       "      <td>...</td>\n",
       "      <td>1.52</td>\n",
       "      <td>0.65</td>\n",
       "      <td>152.68</td>\n",
       "      <td>225.08</td>\n",
       "      <td>30.846175</td>\n",
       "      <td>2022091200</td>\n",
       "      <td>3723</td>\n",
       "      <td>3723</td>\n",
       "      <td>1</td>\n",
       "      <td>0</td>\n",
       "    </tr>\n",
       "    <tr>\n",
       "      <th>688</th>\n",
       "      <td>64.24</td>\n",
       "      <td>35.96</td>\n",
       "      <td>4.62</td>\n",
       "      <td>2.50</td>\n",
       "      <td>0.47</td>\n",
       "      <td>2.78</td>\n",
       "      <td>10.50</td>\n",
       "      <td>0.0</td>\n",
       "      <td>62.88</td>\n",
       "      <td>35.32</td>\n",
       "      <td>...</td>\n",
       "      <td>1.91</td>\n",
       "      <td>0.22</td>\n",
       "      <td>34.60</td>\n",
       "      <td>284.04</td>\n",
       "      <td>32.248597</td>\n",
       "      <td>2022091200</td>\n",
       "      <td>3747</td>\n",
       "      <td>3747</td>\n",
       "      <td>2</td>\n",
       "      <td>2</td>\n",
       "    </tr>\n",
       "    <tr>\n",
       "      <th>689</th>\n",
       "      <td>70.57</td>\n",
       "      <td>11.96</td>\n",
       "      <td>3.91</td>\n",
       "      <td>2.22</td>\n",
       "      <td>0.39</td>\n",
       "      <td>313.03</td>\n",
       "      <td>192.49</td>\n",
       "      <td>0.0</td>\n",
       "      <td>72.37</td>\n",
       "      <td>27.58</td>\n",
       "      <td>...</td>\n",
       "      <td>6.42</td>\n",
       "      <td>0.26</td>\n",
       "      <td>132.69</td>\n",
       "      <td>212.57</td>\n",
       "      <td>44.540324</td>\n",
       "      <td>2022091200</td>\n",
       "      <td>3826</td>\n",
       "      <td>3826</td>\n",
       "      <td>0</td>\n",
       "      <td>0</td>\n",
       "    </tr>\n",
       "  </tbody>\n",
       "</table>\n",
       "<p>690 rows × 184 columns</p>\n",
       "</div>"
      ],
      "text/plain": [
       "     o_x_0  o_y_0  o_s_0  o_a_0  o_dis_0   o_o_0  o_dir_0  \\\n",
       "0    79.85  35.59   4.61   4.82     0.45  114.27   202.20   \n",
       "1    67.89  38.41   4.75   1.46     0.47   52.19   335.55   \n",
       "2    51.68  27.87   5.00   1.40     0.50  117.58   226.52   \n",
       "3    37.68  46.87   7.26   2.74     0.74   93.99   331.40   \n",
       "4    19.30  44.85   8.43   0.93     0.85  315.91   304.27   \n",
       "..     ...    ...    ...    ...      ...     ...      ...   \n",
       "685  80.24  39.11   0.32   3.83     0.04  168.11   354.59   \n",
       "686  72.33  41.04   2.50   1.77     0.24   33.31   336.17   \n",
       "687  68.01  38.45   5.95   1.20     0.60   24.30   348.39   \n",
       "688  64.24  35.96   4.62   2.50     0.47    2.78    10.50   \n",
       "689  70.57  11.96   3.91   2.22     0.39  313.03   192.49   \n",
       "\n",
       "     o_distance_to_ball_carrier_0  o_x_1  o_y_1  ...  d_a_10  d_dis_10  \\\n",
       "0                             0.0  74.99  29.43  ...    4.14      0.27   \n",
       "1                             0.0  68.74  32.54  ...    2.12      0.39   \n",
       "2                             0.0  60.26  25.86  ...    4.05      0.61   \n",
       "3                             0.0  47.86  47.24  ...    0.78      0.16   \n",
       "4                             0.0  33.24  32.57  ...    1.18      0.07   \n",
       "..                            ...    ...    ...  ...     ...       ...   \n",
       "685                           0.0  87.61  25.38  ...    4.06      0.47   \n",
       "686                           0.0  63.69  45.32  ...    4.48      0.55   \n",
       "687                           0.0  74.56  30.32  ...    1.52      0.65   \n",
       "688                           0.0  62.88  35.32  ...    1.91      0.22   \n",
       "689                           0.0  72.37  27.58  ...    6.42      0.26   \n",
       "\n",
       "     d_o_10  d_dir_10  d_distance_to_ball_carrier_10      gameId  playId  \\\n",
       "0    331.57    278.33                      29.415605  2022090800      56   \n",
       "1     82.35    239.91                      35.097602  2022090800     122   \n",
       "2    321.01    314.26                      16.807335  2022090800     167   \n",
       "3      1.30     27.20                      37.464150  2022090800     212   \n",
       "4    319.93    246.50                      30.755188  2022090800     236   \n",
       "..      ...       ...                            ...         ...     ...   \n",
       "685  109.09    136.58                      34.780549  2022091200    3596   \n",
       "686  342.72    298.57                      32.704350  2022091200    3628   \n",
       "687  152.68    225.08                      30.846175  2022091200    3723   \n",
       "688   34.60    284.04                      32.248597  2022091200    3747   \n",
       "689  132.69    212.57                      44.540324  2022091200    3826   \n",
       "\n",
       "     nflid  defenders_nearby  blockers_nearby  \n",
       "0       56                 2                0  \n",
       "1      122                 2                0  \n",
       "2      167                 1                0  \n",
       "3      212                 1                0  \n",
       "4      236                 0                0  \n",
       "..     ...               ...              ...  \n",
       "685   3596                 1                0  \n",
       "686   3628                 2                0  \n",
       "687   3723                 1                0  \n",
       "688   3747                 2                2  \n",
       "689   3826                 0                0  \n",
       "\n",
       "[690 rows x 184 columns]"
      ]
     },
     "execution_count": 6,
     "metadata": {},
     "output_type": "execute_result"
    }
   ],
   "source": [
    "final_input_df\n",
    "\n"
   ]
  },
  {
   "cell_type": "code",
   "execution_count": null,
   "metadata": {},
   "outputs": [],
   "source": []
  }
 ],
 "metadata": {
  "kernelspec": {
   "display_name": "Python 3",
   "language": "python",
   "name": "python3"
  },
  "language_info": {
   "codemirror_mode": {
    "name": "ipython",
    "version": 3
   },
   "file_extension": ".py",
   "mimetype": "text/x-python",
   "name": "python",
   "nbconvert_exporter": "python",
   "pygments_lexer": "ipython3",
   "version": "3.9.6"
  }
 },
 "nbformat": 4,
 "nbformat_minor": 2
}
