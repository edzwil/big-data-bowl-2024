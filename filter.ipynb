{
 "cells": [
  {
   "cell_type": "code",
   "execution_count": 14,
   "id": "initial_id",
   "metadata": {
    "collapsed": true,
    "ExecuteTime": {
     "end_time": "2023-11-21T13:18:56.752185Z",
     "start_time": "2023-11-21T13:18:56.740583Z"
    }
   },
   "outputs": [],
   "source": [
    "import os\n",
    "import pandas as pd\n",
    "import numpy as np"
   ]
  },
  {
   "cell_type": "code",
   "execution_count": 15,
   "outputs": [],
   "source": [
    "os.chdir('PUT WORKING DIRECTORY HERE')"
   ],
   "metadata": {
    "collapsed": false,
    "ExecuteTime": {
     "end_time": "2023-11-21T13:18:57.201728Z",
     "start_time": "2023-11-21T13:18:57.193962Z"
    }
   },
   "id": "b7560ef70ec3961e"
  },
  {
   "cell_type": "code",
   "execution_count": 16,
   "outputs": [],
   "source": [
    "data_folder = os.getcwd()+\"/data/nfl-big-data-bowl-2024/\"\n",
    "for filename in os.listdir(data _folder):\n",
    "    if filename.endswith('.csv'):\n",
    "        exec(filename.split('.')[0] + \"=\" + \"pd.read_csv(data_folder+filename)\")    "
   ],
   "metadata": {
    "collapsed": false,
    "ExecuteTime": {
     "end_time": "2023-11-21T13:19:21.032295Z",
     "start_time": "2023-11-21T13:18:57.728750Z"
    }
   },
   "id": "9f388890b1d10b83"
  },
  {
   "cell_type": "code",
   "execution_count": 17,
   "outputs": [],
   "source": [
    "# join tracking data\n",
    "week_list = [tracking_week_1]#, tracking_week_2, tracking_week_3, tracking_week_4, tracking_week_5, tracking_week_6, tracking_week_7, tracking_week_8, tracking_week_9]\n",
    "weeks = pd.concat(week_list)"
   ],
   "metadata": {
    "collapsed": false,
    "ExecuteTime": {
     "end_time": "2023-11-21T13:19:21.072748Z",
     "start_time": "2023-11-21T13:19:21.068338Z"
    }
   },
   "id": "d00c0cae0d4f5f07"
  },
  {
   "cell_type": "code",
   "execution_count": 18,
   "outputs": [
    {
     "data": {
      "text/plain": "(1407439, 17)"
     },
     "execution_count": 18,
     "metadata": {},
     "output_type": "execute_result"
    }
   ],
   "source": [
    "weeks.shape"
   ],
   "metadata": {
    "collapsed": false,
    "ExecuteTime": {
     "end_time": "2023-11-21T13:19:21.082555Z",
     "start_time": "2023-11-21T13:19:21.073959Z"
    }
   },
   "id": "8618ac89ba7fff15"
  },
  {
   "cell_type": "code",
   "execution_count": 19,
   "outputs": [],
   "source": [
    "# just want beginning of catch\n",
    "weeks = weeks[(weeks.event == \"pass_outcome_caught\")]"
   ],
   "metadata": {
    "collapsed": false,
    "ExecuteTime": {
     "end_time": "2023-11-21T13:19:32.431628Z",
     "start_time": "2023-11-21T13:19:32.402876Z"
    }
   },
   "id": "4ea3c0d1f1a2bbeb"
  },
  {
   "cell_type": "code",
   "execution_count": 20,
   "outputs": [
    {
     "data": {
      "text/plain": "(15870, 17)"
     },
     "execution_count": 20,
     "metadata": {},
     "output_type": "execute_result"
    }
   ],
   "source": [
    "#cuts to 1% of tracking data\n",
    "weeks.shape"
   ],
   "metadata": {
    "collapsed": false,
    "ExecuteTime": {
     "end_time": "2023-11-21T13:20:58.263500Z",
     "start_time": "2023-11-21T13:20:58.249129Z"
    }
   },
   "id": "2bdca1053f068a8f"
  },
  {
   "cell_type": "code",
   "execution_count": 21,
   "outputs": [
    {
     "data": {
      "text/plain": "gameId      playId\n2022090800  56        23\n            122       23\n            167       23\n            212       23\n            236       23\n                      ..\n2022091200  3596      23\n            3628      23\n            3723      23\n            3747      23\n            3826      23\nName: playId, Length: 690, dtype: int64"
     },
     "execution_count": 21,
     "metadata": {},
     "output_type": "execute_result"
    }
   ],
   "source": [
    "#how many players (including ball) are being tracked ?\n",
    "weeks.groupby(['gameId', 'playId'])['playId'].count()"
   ],
   "metadata": {
    "collapsed": false,
    "ExecuteTime": {
     "end_time": "2023-11-21T13:20:58.681447Z",
     "start_time": "2023-11-21T13:20:58.660722Z"
    }
   },
   "id": "275fd97b9ad44bf3"
  },
  {
   "cell_type": "code",
   "execution_count": 22,
   "outputs": [],
   "source": [
    "# filtering out edge cases\n",
    "weeks = weeks[((weeks.gameId != 2022091500) | (weeks.playId != 651)) & ((weeks.gameId != 2022092900) | (weeks.playId != 615)) & ((weeks.gameId != 2022110608) | (weeks.playId != 2351))]"
   ],
   "metadata": {
    "collapsed": false,
    "ExecuteTime": {
     "end_time": "2023-11-21T13:21:00.764049Z",
     "start_time": "2023-11-21T13:21:00.757546Z"
    }
   },
   "id": "6dde3756bca19aa6"
  },
  {
   "cell_type": "code",
   "execution_count": 23,
   "outputs": [
    {
     "data": {
      "text/plain": "(15870, 17)"
     },
     "execution_count": 23,
     "metadata": {},
     "output_type": "execute_result"
    }
   ],
   "source": [
    "weeks.shape"
   ],
   "metadata": {
    "collapsed": false,
    "ExecuteTime": {
     "end_time": "2023-11-21T13:21:01.931610Z",
     "start_time": "2023-11-21T13:21:01.921935Z"
    }
   },
   "id": "a6341d1592029b8b"
  },
  {
   "cell_type": "code",
   "execution_count": 12,
   "outputs": [
    {
     "data": {
      "text/plain": "      nflId height  weight   birthDate       collegeName position  \\\n0     25511    6-4     225  1977-08-03          Michigan       QB   \n1     29550    6-4     328  1982-01-22          Arkansas        T   \n2     29851    6-2     225  1983-12-02        California       QB   \n3     30842    6-6     267  1984-05-19              UCLA       TE   \n4     33084    6-4     217  1985-05-17    Boston College       QB   \n...     ...    ...     ...         ...               ...      ...   \n1678  55200    6-6     266         NaN           Indiana       DT   \n1679  55212    6-0     230         NaN        Iowa State      ILB   \n1680  55239    6-2     300         NaN      Pennsylvania       DT   \n1681  55240    6-1     185         NaN           Buffalo       CB   \n1682  55241    6-2     280         NaN  Coastal Carolina       DT   \n\n           displayName  \n0            Tom Brady  \n1         Jason Peters  \n2        Aaron Rodgers  \n3       Marcedes Lewis  \n4            Matt Ryan  \n...                ...  \n1678    Ryder Anderson  \n1679       Jake Hummel  \n1680      Prince Emili  \n1681  Ja'Marcus Ingram  \n1682       C.J. Brewer  \n\n[1683 rows x 7 columns]",
      "text/html": "<div>\n<style scoped>\n    .dataframe tbody tr th:only-of-type {\n        vertical-align: middle;\n    }\n\n    .dataframe tbody tr th {\n        vertical-align: top;\n    }\n\n    .dataframe thead th {\n        text-align: right;\n    }\n</style>\n<table border=\"1\" class=\"dataframe\">\n  <thead>\n    <tr style=\"text-align: right;\">\n      <th></th>\n      <th>nflId</th>\n      <th>height</th>\n      <th>weight</th>\n      <th>birthDate</th>\n      <th>collegeName</th>\n      <th>position</th>\n      <th>displayName</th>\n    </tr>\n  </thead>\n  <tbody>\n    <tr>\n      <th>0</th>\n      <td>25511</td>\n      <td>6-4</td>\n      <td>225</td>\n      <td>1977-08-03</td>\n      <td>Michigan</td>\n      <td>QB</td>\n      <td>Tom Brady</td>\n    </tr>\n    <tr>\n      <th>1</th>\n      <td>29550</td>\n      <td>6-4</td>\n      <td>328</td>\n      <td>1982-01-22</td>\n      <td>Arkansas</td>\n      <td>T</td>\n      <td>Jason Peters</td>\n    </tr>\n    <tr>\n      <th>2</th>\n      <td>29851</td>\n      <td>6-2</td>\n      <td>225</td>\n      <td>1983-12-02</td>\n      <td>California</td>\n      <td>QB</td>\n      <td>Aaron Rodgers</td>\n    </tr>\n    <tr>\n      <th>3</th>\n      <td>30842</td>\n      <td>6-6</td>\n      <td>267</td>\n      <td>1984-05-19</td>\n      <td>UCLA</td>\n      <td>TE</td>\n      <td>Marcedes Lewis</td>\n    </tr>\n    <tr>\n      <th>4</th>\n      <td>33084</td>\n      <td>6-4</td>\n      <td>217</td>\n      <td>1985-05-17</td>\n      <td>Boston College</td>\n      <td>QB</td>\n      <td>Matt Ryan</td>\n    </tr>\n    <tr>\n      <th>...</th>\n      <td>...</td>\n      <td>...</td>\n      <td>...</td>\n      <td>...</td>\n      <td>...</td>\n      <td>...</td>\n      <td>...</td>\n    </tr>\n    <tr>\n      <th>1678</th>\n      <td>55200</td>\n      <td>6-6</td>\n      <td>266</td>\n      <td>NaN</td>\n      <td>Indiana</td>\n      <td>DT</td>\n      <td>Ryder Anderson</td>\n    </tr>\n    <tr>\n      <th>1679</th>\n      <td>55212</td>\n      <td>6-0</td>\n      <td>230</td>\n      <td>NaN</td>\n      <td>Iowa State</td>\n      <td>ILB</td>\n      <td>Jake Hummel</td>\n    </tr>\n    <tr>\n      <th>1680</th>\n      <td>55239</td>\n      <td>6-2</td>\n      <td>300</td>\n      <td>NaN</td>\n      <td>Pennsylvania</td>\n      <td>DT</td>\n      <td>Prince Emili</td>\n    </tr>\n    <tr>\n      <th>1681</th>\n      <td>55240</td>\n      <td>6-1</td>\n      <td>185</td>\n      <td>NaN</td>\n      <td>Buffalo</td>\n      <td>CB</td>\n      <td>Ja'Marcus Ingram</td>\n    </tr>\n    <tr>\n      <th>1682</th>\n      <td>55241</td>\n      <td>6-2</td>\n      <td>280</td>\n      <td>NaN</td>\n      <td>Coastal Carolina</td>\n      <td>DT</td>\n      <td>C.J. Brewer</td>\n    </tr>\n  </tbody>\n</table>\n<p>1683 rows × 7 columns</p>\n</div>"
     },
     "execution_count": 12,
     "metadata": {},
     "output_type": "execute_result"
    }
   ],
   "source": [
    "players"
   ],
   "metadata": {
    "collapsed": false,
    "ExecuteTime": {
     "end_time": "2023-11-21T13:18:32.981717Z",
     "start_time": "2023-11-21T13:18:32.913870Z"
    }
   },
   "id": "91a82e8e244aa605"
  },
  {
   "cell_type": "code",
   "execution_count": 24,
   "outputs": [
    {
     "data": {
      "text/plain": "Empty DataFrame\nColumns: [gameId, playId, nflId, tackle, assist, forcedFumble, pff_missedTackle]\nIndex: []",
      "text/html": "<div>\n<style scoped>\n    .dataframe tbody tr th:only-of-type {\n        vertical-align: middle;\n    }\n\n    .dataframe tbody tr th {\n        vertical-align: top;\n    }\n\n    .dataframe thead th {\n        text-align: right;\n    }\n</style>\n<table border=\"1\" class=\"dataframe\">\n  <thead>\n    <tr style=\"text-align: right;\">\n      <th></th>\n      <th>gameId</th>\n      <th>playId</th>\n      <th>nflId</th>\n      <th>tackle</th>\n      <th>assist</th>\n      <th>forcedFumble</th>\n      <th>pff_missedTackle</th>\n    </tr>\n  </thead>\n  <tbody>\n  </tbody>\n</table>\n</div>"
     },
     "execution_count": 24,
     "metadata": {},
     "output_type": "execute_result"
    }
   ],
   "source": [
    "#confirmed no \"missing tackles\"\n",
    "tackles[(tackles.pff_missedTackle == 0) & (tackles.tackle == 0) & (tackles.assist == 0)]"
   ],
   "metadata": {
    "collapsed": false,
    "ExecuteTime": {
     "end_time": "2023-11-21T13:21:37.225517Z",
     "start_time": "2023-11-21T13:21:37.189182Z"
    }
   },
   "id": "46ccb148d0c915c6"
  },
  {
   "cell_type": "code",
   "execution_count": 25,
   "outputs": [],
   "source": [
    "pass_tackles = tackles.merge(weeks, on=['gameId', 'playId', 'nflId'], how = 'inner')"
   ],
   "metadata": {
    "collapsed": false,
    "ExecuteTime": {
     "end_time": "2023-11-21T13:22:15.579460Z",
     "start_time": "2023-11-21T13:22:15.535277Z"
    }
   },
   "id": "a08ea1ed00e2ed12"
  },
  {
   "cell_type": "code",
   "execution_count": 27,
   "outputs": [
    {
     "data": {
      "text/plain": "(861, 21)"
     },
     "execution_count": 27,
     "metadata": {},
     "output_type": "execute_result"
    }
   ],
   "source": [
    "pass_tackles.shape"
   ],
   "metadata": {
    "collapsed": false,
    "ExecuteTime": {
     "end_time": "2023-11-21T13:22:41.883568Z",
     "start_time": "2023-11-21T13:22:41.870618Z"
    }
   },
   "id": "937a77f077a6a14b"
  },
  {
   "cell_type": "code",
   "execution_count": 28,
   "outputs": [
    {
     "data": {
      "text/plain": "         gameId  playId  nflId  tackle  assist  forcedFumble  \\\n151  2022091102     189  52571       1       0             0   \n329  2022091110     750  52546       1       0             0   \n432  2022091200    3723  52435       1       0             0   \n687  2022091106    2405  52991       0       1             0   \n700  2022091100    2135  46091       0       1             0   \n..          ...     ...    ...     ...     ...           ...   \n856  2022091109     928  53462       0       0             0   \n857  2022091109     928  46456       0       0             0   \n858  2022091109    3087  44926       0       0             0   \n859  2022091109    3087  46249       0       0             0   \n860  2022091109    3357  53448       0       0             0   \n\n     pff_missedTackle         displayName  frameId  \\\n151                 1       Kindle Vildor        6   \n329                 1      L'Jarius Sneed        6   \n432                 1       Jordyn Brooks        6   \n687                 1        Myles Bryant        6   \n700                 1       Rashaan Evans        6   \n..                ...                 ...      ...   \n856                 1      Tyson Campbell        6   \n857                 1    Darious Williams        6   \n858                 1    Rayshawn Jenkins        6   \n859                 1  Folorunso Fatukasi        6   \n860                 1         Jamin Davis        6   \n\n                           time  ...  club playDirection      x      y     s  \\\n151  2022-09-11 13:08:54.500000  ...   CHI         right  54.62  19.60  1.94   \n329  2022-09-11 16:50:31.900000  ...    KC         right  43.26  17.70  6.53   \n432  2022-09-12 23:02:26.700000  ...   SEA          left  65.85  34.22  7.74   \n687  2022-09-11 14:59:20.400000  ...    NE          left  59.17  44.70  6.20   \n700  2022-09-11 14:46:15.799999  ...   ATL          left  54.04  39.80  6.30   \n..                          ...  ...   ...           ...    ...    ...   ...   \n856  2022-09-11 13:44:46.900000  ...   JAX          left  49.96  38.21  6.51   \n857  2022-09-11 13:44:46.900000  ...   JAX          left  44.28  41.74  3.18   \n858  2022-09-11 15:25:47.799999  ...   JAX         right  41.67  14.13  6.97   \n859  2022-09-11 15:25:47.799999  ...   JAX         right  28.89  31.35  1.12   \n860  2022-09-11 15:37:48.700000  ...   WAS         right  70.38  32.39  5.94   \n\n        a   dis       o     dir                event  \n151  2.84  0.19   14.50  230.40  pass_outcome_caught  \n329  4.33  0.64  239.26  204.54  pass_outcome_caught  \n432  0.89  0.77   28.30    3.05  pass_outcome_caught  \n687  1.69  0.63  306.69   90.48  pass_outcome_caught  \n700  1.90  0.62   19.70    4.69  pass_outcome_caught  \n..    ...   ...     ...     ...                  ...  \n856  3.25  0.66   67.18   27.08  pass_outcome_caught  \n857  3.26  0.33   64.58  325.11  pass_outcome_caught  \n858  3.41  0.69  262.45  249.55  pass_outcome_caught  \n859  0.83  0.11  115.67  118.22  pass_outcome_caught  \n860  3.50  0.59  181.36  173.99  pass_outcome_caught  \n\n[97 rows x 21 columns]",
      "text/html": "<div>\n<style scoped>\n    .dataframe tbody tr th:only-of-type {\n        vertical-align: middle;\n    }\n\n    .dataframe tbody tr th {\n        vertical-align: top;\n    }\n\n    .dataframe thead th {\n        text-align: right;\n    }\n</style>\n<table border=\"1\" class=\"dataframe\">\n  <thead>\n    <tr style=\"text-align: right;\">\n      <th></th>\n      <th>gameId</th>\n      <th>playId</th>\n      <th>nflId</th>\n      <th>tackle</th>\n      <th>assist</th>\n      <th>forcedFumble</th>\n      <th>pff_missedTackle</th>\n      <th>displayName</th>\n      <th>frameId</th>\n      <th>time</th>\n      <th>...</th>\n      <th>club</th>\n      <th>playDirection</th>\n      <th>x</th>\n      <th>y</th>\n      <th>s</th>\n      <th>a</th>\n      <th>dis</th>\n      <th>o</th>\n      <th>dir</th>\n      <th>event</th>\n    </tr>\n  </thead>\n  <tbody>\n    <tr>\n      <th>151</th>\n      <td>2022091102</td>\n      <td>189</td>\n      <td>52571</td>\n      <td>1</td>\n      <td>0</td>\n      <td>0</td>\n      <td>1</td>\n      <td>Kindle Vildor</td>\n      <td>6</td>\n      <td>2022-09-11 13:08:54.500000</td>\n      <td>...</td>\n      <td>CHI</td>\n      <td>right</td>\n      <td>54.62</td>\n      <td>19.60</td>\n      <td>1.94</td>\n      <td>2.84</td>\n      <td>0.19</td>\n      <td>14.50</td>\n      <td>230.40</td>\n      <td>pass_outcome_caught</td>\n    </tr>\n    <tr>\n      <th>329</th>\n      <td>2022091110</td>\n      <td>750</td>\n      <td>52546</td>\n      <td>1</td>\n      <td>0</td>\n      <td>0</td>\n      <td>1</td>\n      <td>L'Jarius Sneed</td>\n      <td>6</td>\n      <td>2022-09-11 16:50:31.900000</td>\n      <td>...</td>\n      <td>KC</td>\n      <td>right</td>\n      <td>43.26</td>\n      <td>17.70</td>\n      <td>6.53</td>\n      <td>4.33</td>\n      <td>0.64</td>\n      <td>239.26</td>\n      <td>204.54</td>\n      <td>pass_outcome_caught</td>\n    </tr>\n    <tr>\n      <th>432</th>\n      <td>2022091200</td>\n      <td>3723</td>\n      <td>52435</td>\n      <td>1</td>\n      <td>0</td>\n      <td>0</td>\n      <td>1</td>\n      <td>Jordyn Brooks</td>\n      <td>6</td>\n      <td>2022-09-12 23:02:26.700000</td>\n      <td>...</td>\n      <td>SEA</td>\n      <td>left</td>\n      <td>65.85</td>\n      <td>34.22</td>\n      <td>7.74</td>\n      <td>0.89</td>\n      <td>0.77</td>\n      <td>28.30</td>\n      <td>3.05</td>\n      <td>pass_outcome_caught</td>\n    </tr>\n    <tr>\n      <th>687</th>\n      <td>2022091106</td>\n      <td>2405</td>\n      <td>52991</td>\n      <td>0</td>\n      <td>1</td>\n      <td>0</td>\n      <td>1</td>\n      <td>Myles Bryant</td>\n      <td>6</td>\n      <td>2022-09-11 14:59:20.400000</td>\n      <td>...</td>\n      <td>NE</td>\n      <td>left</td>\n      <td>59.17</td>\n      <td>44.70</td>\n      <td>6.20</td>\n      <td>1.69</td>\n      <td>0.63</td>\n      <td>306.69</td>\n      <td>90.48</td>\n      <td>pass_outcome_caught</td>\n    </tr>\n    <tr>\n      <th>700</th>\n      <td>2022091100</td>\n      <td>2135</td>\n      <td>46091</td>\n      <td>0</td>\n      <td>1</td>\n      <td>0</td>\n      <td>1</td>\n      <td>Rashaan Evans</td>\n      <td>6</td>\n      <td>2022-09-11 14:46:15.799999</td>\n      <td>...</td>\n      <td>ATL</td>\n      <td>left</td>\n      <td>54.04</td>\n      <td>39.80</td>\n      <td>6.30</td>\n      <td>1.90</td>\n      <td>0.62</td>\n      <td>19.70</td>\n      <td>4.69</td>\n      <td>pass_outcome_caught</td>\n    </tr>\n    <tr>\n      <th>...</th>\n      <td>...</td>\n      <td>...</td>\n      <td>...</td>\n      <td>...</td>\n      <td>...</td>\n      <td>...</td>\n      <td>...</td>\n      <td>...</td>\n      <td>...</td>\n      <td>...</td>\n      <td>...</td>\n      <td>...</td>\n      <td>...</td>\n      <td>...</td>\n      <td>...</td>\n      <td>...</td>\n      <td>...</td>\n      <td>...</td>\n      <td>...</td>\n      <td>...</td>\n      <td>...</td>\n    </tr>\n    <tr>\n      <th>856</th>\n      <td>2022091109</td>\n      <td>928</td>\n      <td>53462</td>\n      <td>0</td>\n      <td>0</td>\n      <td>0</td>\n      <td>1</td>\n      <td>Tyson Campbell</td>\n      <td>6</td>\n      <td>2022-09-11 13:44:46.900000</td>\n      <td>...</td>\n      <td>JAX</td>\n      <td>left</td>\n      <td>49.96</td>\n      <td>38.21</td>\n      <td>6.51</td>\n      <td>3.25</td>\n      <td>0.66</td>\n      <td>67.18</td>\n      <td>27.08</td>\n      <td>pass_outcome_caught</td>\n    </tr>\n    <tr>\n      <th>857</th>\n      <td>2022091109</td>\n      <td>928</td>\n      <td>46456</td>\n      <td>0</td>\n      <td>0</td>\n      <td>0</td>\n      <td>1</td>\n      <td>Darious Williams</td>\n      <td>6</td>\n      <td>2022-09-11 13:44:46.900000</td>\n      <td>...</td>\n      <td>JAX</td>\n      <td>left</td>\n      <td>44.28</td>\n      <td>41.74</td>\n      <td>3.18</td>\n      <td>3.26</td>\n      <td>0.33</td>\n      <td>64.58</td>\n      <td>325.11</td>\n      <td>pass_outcome_caught</td>\n    </tr>\n    <tr>\n      <th>858</th>\n      <td>2022091109</td>\n      <td>3087</td>\n      <td>44926</td>\n      <td>0</td>\n      <td>0</td>\n      <td>0</td>\n      <td>1</td>\n      <td>Rayshawn Jenkins</td>\n      <td>6</td>\n      <td>2022-09-11 15:25:47.799999</td>\n      <td>...</td>\n      <td>JAX</td>\n      <td>right</td>\n      <td>41.67</td>\n      <td>14.13</td>\n      <td>6.97</td>\n      <td>3.41</td>\n      <td>0.69</td>\n      <td>262.45</td>\n      <td>249.55</td>\n      <td>pass_outcome_caught</td>\n    </tr>\n    <tr>\n      <th>859</th>\n      <td>2022091109</td>\n      <td>3087</td>\n      <td>46249</td>\n      <td>0</td>\n      <td>0</td>\n      <td>0</td>\n      <td>1</td>\n      <td>Folorunso Fatukasi</td>\n      <td>6</td>\n      <td>2022-09-11 15:25:47.799999</td>\n      <td>...</td>\n      <td>JAX</td>\n      <td>right</td>\n      <td>28.89</td>\n      <td>31.35</td>\n      <td>1.12</td>\n      <td>0.83</td>\n      <td>0.11</td>\n      <td>115.67</td>\n      <td>118.22</td>\n      <td>pass_outcome_caught</td>\n    </tr>\n    <tr>\n      <th>860</th>\n      <td>2022091109</td>\n      <td>3357</td>\n      <td>53448</td>\n      <td>0</td>\n      <td>0</td>\n      <td>0</td>\n      <td>1</td>\n      <td>Jamin Davis</td>\n      <td>6</td>\n      <td>2022-09-11 15:37:48.700000</td>\n      <td>...</td>\n      <td>WAS</td>\n      <td>right</td>\n      <td>70.38</td>\n      <td>32.39</td>\n      <td>5.94</td>\n      <td>3.50</td>\n      <td>0.59</td>\n      <td>181.36</td>\n      <td>173.99</td>\n      <td>pass_outcome_caught</td>\n    </tr>\n  </tbody>\n</table>\n<p>97 rows × 21 columns</p>\n</div>"
     },
     "execution_count": 28,
     "metadata": {},
     "output_type": "execute_result"
    }
   ],
   "source": [
    "# unbalanced\n",
    "pass_tackles[pass_tackles.pff_missedTackle == 1]"
   ],
   "metadata": {
    "collapsed": false,
    "ExecuteTime": {
     "end_time": "2023-11-21T13:23:31.885851Z",
     "start_time": "2023-11-21T13:23:31.870453Z"
    }
   },
   "id": "4140e4215cdc718c"
  },
  {
   "cell_type": "code",
   "execution_count": 29,
   "outputs": [
    {
     "data": {
      "text/plain": "         gameId  playId  nflId  tackle  assist  forcedFumble  \\\n0    2022090800     486  40166       1       0             0   \n1    2022090800     646  47939       1       0             0   \n2    2022090800     818  40107       1       0             0   \n3    2022090800    1286  44976       1       0             0   \n4    2022090800    2860  46085       1       0             0   \n..          ...     ...    ...     ...     ...           ...   \n588  2022091108    1132  44830       1       0             0   \n589  2022091108    1698  47971       1       0             0   \n590  2022091113    1283  52453       1       0             0   \n591  2022091113    2222  53461       1       0             0   \n592  2022091200    1129  42403       1       0             0   \n\n     pff_missedTackle       displayName  frameId                        time  \\\n0                   0      Jordan Poyer        6  2022-09-08 20:37:56.799999   \n1                   0    Justin Hollins        6  2022-09-08 20:44:53.000000   \n2                   0        Micah Hyde        6  2022-09-08 20:53:26.000000   \n3                   0       Matt Milano        6  2022-09-08 21:12:05.299999   \n4                   0  Tremaine Edmunds        6  2022-09-08 22:34:50.200000   \n..                ...               ...      ...                         ...   \n588                 0   Adoree' Jackson        6  2022-09-11 17:15:33.500000   \n589                 0        David Long        6  2022-09-11 17:40:12.700000   \n590                 0  Antoine Winfield        6  2022-09-11 21:15:35.799999   \n591                 0         Joe Tryon        6  2022-09-11 22:07:37.599999   \n592                 0     Randy Gregory        6  2022-09-12 21:00:56.200000   \n\n     ...  club playDirection      x      y     s     a   dis       o     dir  \\\n0    ...   BUF         right  65.38  20.53  4.10  3.02  0.42  252.81  258.40   \n1    ...    LA          left  58.40  12.60  2.38  3.78  0.25   92.19  181.73   \n2    ...   BUF          left  78.66   5.77  4.75  0.77  0.48   81.67  109.10   \n3    ...   BUF          left  38.20   9.83  7.49  3.17  0.75  137.34  177.90   \n4    ...   BUF          left  71.82  33.13  3.32  1.47  0.34   56.81   47.28   \n..   ...   ...           ...    ...    ...   ...   ...   ...     ...     ...   \n588  ...   NYG         right  72.98  10.54  5.04  2.45  0.51  260.24  256.57   \n589  ...   TEN          left  68.55  27.30  4.04  3.70  0.39  143.70  166.34   \n590  ...    TB         right  52.84   8.52  6.52  2.46  0.64  159.29  168.85   \n591  ...    TB          left  72.53  44.17  6.90  2.82  0.69   64.24   18.35   \n592  ...   DEN          left  26.39  19.29  3.42  2.23  0.37   38.52   56.89   \n\n                   event  \n0    pass_outcome_caught  \n1    pass_outcome_caught  \n2    pass_outcome_caught  \n3    pass_outcome_caught  \n4    pass_outcome_caught  \n..                   ...  \n588  pass_outcome_caught  \n589  pass_outcome_caught  \n590  pass_outcome_caught  \n591  pass_outcome_caught  \n592  pass_outcome_caught  \n\n[590 rows x 21 columns]",
      "text/html": "<div>\n<style scoped>\n    .dataframe tbody tr th:only-of-type {\n        vertical-align: middle;\n    }\n\n    .dataframe tbody tr th {\n        vertical-align: top;\n    }\n\n    .dataframe thead th {\n        text-align: right;\n    }\n</style>\n<table border=\"1\" class=\"dataframe\">\n  <thead>\n    <tr style=\"text-align: right;\">\n      <th></th>\n      <th>gameId</th>\n      <th>playId</th>\n      <th>nflId</th>\n      <th>tackle</th>\n      <th>assist</th>\n      <th>forcedFumble</th>\n      <th>pff_missedTackle</th>\n      <th>displayName</th>\n      <th>frameId</th>\n      <th>time</th>\n      <th>...</th>\n      <th>club</th>\n      <th>playDirection</th>\n      <th>x</th>\n      <th>y</th>\n      <th>s</th>\n      <th>a</th>\n      <th>dis</th>\n      <th>o</th>\n      <th>dir</th>\n      <th>event</th>\n    </tr>\n  </thead>\n  <tbody>\n    <tr>\n      <th>0</th>\n      <td>2022090800</td>\n      <td>486</td>\n      <td>40166</td>\n      <td>1</td>\n      <td>0</td>\n      <td>0</td>\n      <td>0</td>\n      <td>Jordan Poyer</td>\n      <td>6</td>\n      <td>2022-09-08 20:37:56.799999</td>\n      <td>...</td>\n      <td>BUF</td>\n      <td>right</td>\n      <td>65.38</td>\n      <td>20.53</td>\n      <td>4.10</td>\n      <td>3.02</td>\n      <td>0.42</td>\n      <td>252.81</td>\n      <td>258.40</td>\n      <td>pass_outcome_caught</td>\n    </tr>\n    <tr>\n      <th>1</th>\n      <td>2022090800</td>\n      <td>646</td>\n      <td>47939</td>\n      <td>1</td>\n      <td>0</td>\n      <td>0</td>\n      <td>0</td>\n      <td>Justin Hollins</td>\n      <td>6</td>\n      <td>2022-09-08 20:44:53.000000</td>\n      <td>...</td>\n      <td>LA</td>\n      <td>left</td>\n      <td>58.40</td>\n      <td>12.60</td>\n      <td>2.38</td>\n      <td>3.78</td>\n      <td>0.25</td>\n      <td>92.19</td>\n      <td>181.73</td>\n      <td>pass_outcome_caught</td>\n    </tr>\n    <tr>\n      <th>2</th>\n      <td>2022090800</td>\n      <td>818</td>\n      <td>40107</td>\n      <td>1</td>\n      <td>0</td>\n      <td>0</td>\n      <td>0</td>\n      <td>Micah Hyde</td>\n      <td>6</td>\n      <td>2022-09-08 20:53:26.000000</td>\n      <td>...</td>\n      <td>BUF</td>\n      <td>left</td>\n      <td>78.66</td>\n      <td>5.77</td>\n      <td>4.75</td>\n      <td>0.77</td>\n      <td>0.48</td>\n      <td>81.67</td>\n      <td>109.10</td>\n      <td>pass_outcome_caught</td>\n    </tr>\n    <tr>\n      <th>3</th>\n      <td>2022090800</td>\n      <td>1286</td>\n      <td>44976</td>\n      <td>1</td>\n      <td>0</td>\n      <td>0</td>\n      <td>0</td>\n      <td>Matt Milano</td>\n      <td>6</td>\n      <td>2022-09-08 21:12:05.299999</td>\n      <td>...</td>\n      <td>BUF</td>\n      <td>left</td>\n      <td>38.20</td>\n      <td>9.83</td>\n      <td>7.49</td>\n      <td>3.17</td>\n      <td>0.75</td>\n      <td>137.34</td>\n      <td>177.90</td>\n      <td>pass_outcome_caught</td>\n    </tr>\n    <tr>\n      <th>4</th>\n      <td>2022090800</td>\n      <td>2860</td>\n      <td>46085</td>\n      <td>1</td>\n      <td>0</td>\n      <td>0</td>\n      <td>0</td>\n      <td>Tremaine Edmunds</td>\n      <td>6</td>\n      <td>2022-09-08 22:34:50.200000</td>\n      <td>...</td>\n      <td>BUF</td>\n      <td>left</td>\n      <td>71.82</td>\n      <td>33.13</td>\n      <td>3.32</td>\n      <td>1.47</td>\n      <td>0.34</td>\n      <td>56.81</td>\n      <td>47.28</td>\n      <td>pass_outcome_caught</td>\n    </tr>\n    <tr>\n      <th>...</th>\n      <td>...</td>\n      <td>...</td>\n      <td>...</td>\n      <td>...</td>\n      <td>...</td>\n      <td>...</td>\n      <td>...</td>\n      <td>...</td>\n      <td>...</td>\n      <td>...</td>\n      <td>...</td>\n      <td>...</td>\n      <td>...</td>\n      <td>...</td>\n      <td>...</td>\n      <td>...</td>\n      <td>...</td>\n      <td>...</td>\n      <td>...</td>\n      <td>...</td>\n      <td>...</td>\n    </tr>\n    <tr>\n      <th>588</th>\n      <td>2022091108</td>\n      <td>1132</td>\n      <td>44830</td>\n      <td>1</td>\n      <td>0</td>\n      <td>0</td>\n      <td>0</td>\n      <td>Adoree' Jackson</td>\n      <td>6</td>\n      <td>2022-09-11 17:15:33.500000</td>\n      <td>...</td>\n      <td>NYG</td>\n      <td>right</td>\n      <td>72.98</td>\n      <td>10.54</td>\n      <td>5.04</td>\n      <td>2.45</td>\n      <td>0.51</td>\n      <td>260.24</td>\n      <td>256.57</td>\n      <td>pass_outcome_caught</td>\n    </tr>\n    <tr>\n      <th>589</th>\n      <td>2022091108</td>\n      <td>1698</td>\n      <td>47971</td>\n      <td>1</td>\n      <td>0</td>\n      <td>0</td>\n      <td>0</td>\n      <td>David Long</td>\n      <td>6</td>\n      <td>2022-09-11 17:40:12.700000</td>\n      <td>...</td>\n      <td>TEN</td>\n      <td>left</td>\n      <td>68.55</td>\n      <td>27.30</td>\n      <td>4.04</td>\n      <td>3.70</td>\n      <td>0.39</td>\n      <td>143.70</td>\n      <td>166.34</td>\n      <td>pass_outcome_caught</td>\n    </tr>\n    <tr>\n      <th>590</th>\n      <td>2022091113</td>\n      <td>1283</td>\n      <td>52453</td>\n      <td>1</td>\n      <td>0</td>\n      <td>0</td>\n      <td>0</td>\n      <td>Antoine Winfield</td>\n      <td>6</td>\n      <td>2022-09-11 21:15:35.799999</td>\n      <td>...</td>\n      <td>TB</td>\n      <td>right</td>\n      <td>52.84</td>\n      <td>8.52</td>\n      <td>6.52</td>\n      <td>2.46</td>\n      <td>0.64</td>\n      <td>159.29</td>\n      <td>168.85</td>\n      <td>pass_outcome_caught</td>\n    </tr>\n    <tr>\n      <th>591</th>\n      <td>2022091113</td>\n      <td>2222</td>\n      <td>53461</td>\n      <td>1</td>\n      <td>0</td>\n      <td>0</td>\n      <td>0</td>\n      <td>Joe Tryon</td>\n      <td>6</td>\n      <td>2022-09-11 22:07:37.599999</td>\n      <td>...</td>\n      <td>TB</td>\n      <td>left</td>\n      <td>72.53</td>\n      <td>44.17</td>\n      <td>6.90</td>\n      <td>2.82</td>\n      <td>0.69</td>\n      <td>64.24</td>\n      <td>18.35</td>\n      <td>pass_outcome_caught</td>\n    </tr>\n    <tr>\n      <th>592</th>\n      <td>2022091200</td>\n      <td>1129</td>\n      <td>42403</td>\n      <td>1</td>\n      <td>0</td>\n      <td>0</td>\n      <td>0</td>\n      <td>Randy Gregory</td>\n      <td>6</td>\n      <td>2022-09-12 21:00:56.200000</td>\n      <td>...</td>\n      <td>DEN</td>\n      <td>left</td>\n      <td>26.39</td>\n      <td>19.29</td>\n      <td>3.42</td>\n      <td>2.23</td>\n      <td>0.37</td>\n      <td>38.52</td>\n      <td>56.89</td>\n      <td>pass_outcome_caught</td>\n    </tr>\n  </tbody>\n</table>\n<p>590 rows × 21 columns</p>\n</div>"
     },
     "execution_count": 29,
     "metadata": {},
     "output_type": "execute_result"
    }
   ],
   "source": [
    "pass_tackles[(pass_tackles.pff_missedTackle != 1) & (pass_tackles.assist != 1)]"
   ],
   "metadata": {
    "collapsed": false,
    "ExecuteTime": {
     "end_time": "2023-11-21T13:23:38.720331Z",
     "start_time": "2023-11-21T13:23:38.686426Z"
    }
   },
   "id": "75ccef9f0b209f41"
  },
  {
   "cell_type": "code",
   "execution_count": 30,
   "outputs": [
    {
     "data": {
      "text/plain": "         gameId  playId  nflId  tackle  assist  forcedFumble  \\\n633  2022091101    3545  42470       0       1             0   \n634  2022091101    3545  52415       0       1             0   \n\n     pff_missedTackle    displayName  frameId                        time  \\\n633                 0  Damien Wilson        6  2022-09-11 15:51:49.299999   \n634                 0  Derrick Brown        6  2022-09-11 15:51:49.299999   \n\n     ...  club playDirection      x      y     s     a   dis       o     dir  \\\n633  ...   CAR          left  80.71  19.17  2.89  4.70  0.28  123.98  167.65   \n634  ...   CAR          left  90.35  21.68  3.45  1.43  0.38  174.02  204.46   \n\n                   event  \n633  pass_outcome_caught  \n634  pass_outcome_caught  \n\n[2 rows x 21 columns]",
      "text/html": "<div>\n<style scoped>\n    .dataframe tbody tr th:only-of-type {\n        vertical-align: middle;\n    }\n\n    .dataframe tbody tr th {\n        vertical-align: top;\n    }\n\n    .dataframe thead th {\n        text-align: right;\n    }\n</style>\n<table border=\"1\" class=\"dataframe\">\n  <thead>\n    <tr style=\"text-align: right;\">\n      <th></th>\n      <th>gameId</th>\n      <th>playId</th>\n      <th>nflId</th>\n      <th>tackle</th>\n      <th>assist</th>\n      <th>forcedFumble</th>\n      <th>pff_missedTackle</th>\n      <th>displayName</th>\n      <th>frameId</th>\n      <th>time</th>\n      <th>...</th>\n      <th>club</th>\n      <th>playDirection</th>\n      <th>x</th>\n      <th>y</th>\n      <th>s</th>\n      <th>a</th>\n      <th>dis</th>\n      <th>o</th>\n      <th>dir</th>\n      <th>event</th>\n    </tr>\n  </thead>\n  <tbody>\n    <tr>\n      <th>633</th>\n      <td>2022091101</td>\n      <td>3545</td>\n      <td>42470</td>\n      <td>0</td>\n      <td>1</td>\n      <td>0</td>\n      <td>0</td>\n      <td>Damien Wilson</td>\n      <td>6</td>\n      <td>2022-09-11 15:51:49.299999</td>\n      <td>...</td>\n      <td>CAR</td>\n      <td>left</td>\n      <td>80.71</td>\n      <td>19.17</td>\n      <td>2.89</td>\n      <td>4.70</td>\n      <td>0.28</td>\n      <td>123.98</td>\n      <td>167.65</td>\n      <td>pass_outcome_caught</td>\n    </tr>\n    <tr>\n      <th>634</th>\n      <td>2022091101</td>\n      <td>3545</td>\n      <td>52415</td>\n      <td>0</td>\n      <td>1</td>\n      <td>0</td>\n      <td>0</td>\n      <td>Derrick Brown</td>\n      <td>6</td>\n      <td>2022-09-11 15:51:49.299999</td>\n      <td>...</td>\n      <td>CAR</td>\n      <td>left</td>\n      <td>90.35</td>\n      <td>21.68</td>\n      <td>3.45</td>\n      <td>1.43</td>\n      <td>0.38</td>\n      <td>174.02</td>\n      <td>204.46</td>\n      <td>pass_outcome_caught</td>\n    </tr>\n  </tbody>\n</table>\n<p>2 rows × 21 columns</p>\n</div>"
     },
     "execution_count": 30,
     "metadata": {},
     "output_type": "execute_result"
    }
   ],
   "source": [
    "pass_tackles[(pass_tackles.assist == 1) & (pass_tackles.playId == 3545)]"
   ],
   "metadata": {
    "collapsed": false,
    "ExecuteTime": {
     "end_time": "2023-11-17T21:35:54.005562Z",
     "start_time": "2023-11-17T21:35:53.992449Z"
    }
   },
   "id": "7f38c0e161fbb453"
  },
  {
   "cell_type": "code",
   "execution_count": null,
   "outputs": [],
   "source": [],
   "metadata": {
    "collapsed": false
   },
   "id": "894e0202bff5be1c"
  }
 ],
 "metadata": {
  "kernelspec": {
   "display_name": "Python 3",
   "language": "python",
   "name": "python3"
  },
  "language_info": {
   "codemirror_mode": {
    "name": "ipython",
    "version": 2
   },
   "file_extension": ".py",
   "mimetype": "text/x-python",
   "name": "python",
   "nbconvert_exporter": "python",
   "pygments_lexer": "ipython2",
   "version": "2.7.6"
  }
 },
 "nbformat": 4,
 "nbformat_minor": 5
}
