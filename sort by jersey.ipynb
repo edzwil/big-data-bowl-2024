{
 "cells": [
  {
   "cell_type": "code",
   "execution_count": 12,
   "metadata": {},
   "outputs": [],
   "source": [
    "import os\n",
    "import pandas as pd\n",
    "import numpy as np\n",
    "import matplotlib.pyplot as plt\n",
    "import seaborn as sns\n",
    "from scipy.spatial.distance import cdist\n",
    "from tqdm.notebook import tqdm\n",
    "import IPython"
   ]
  },
  {
   "cell_type": "code",
   "execution_count": 13,
   "metadata": {},
   "outputs": [
    {
     "data": {
      "text/plain": [
       "(1407439, 18)"
      ]
     },
     "execution_count": 13,
     "metadata": {},
     "output_type": "execute_result"
    }
   ],
   "source": [
    "#Katie\n",
    "games = pd.read_csv(\"games.csv\")\n",
    "plays = pd.read_csv(\"plays.csv\")\n",
    "players = pd.read_csv(\"players.csv\")\n",
    "week = pd.read_csv(\"tracking_week_1.csv\")\n",
    "tackles = pd.read_csv(\"tackles.csv\")\n",
    "\n",
    "\n",
    "week = week.merge(players.loc[:, ['nflId', 'position']], how='left')\n",
    "week.shape"
   ]
  },
  {
   "cell_type": "code",
   "execution_count": null,
   "metadata": {},
   "outputs": [],
   "source": [
    "#Emily \n",
    "data_dir = os.getcwd() + '/nfl-big-data-bowl-2024/'\n",
    "players = pd.read_csv(data_dir + \"players.csv\")\n",
    "week = pd.read_csv(data_dir + \"tracking_week_1.csv\")\n",
    "plays = pd.read_csv(data_dir + \"plays.csv\")\n",
    "tackles = pd.read_csv(data_dir + \"tackles.csv\")\n",
    "\n",
    "\n",
    "# join player positioning information onto a week's worth of tracking data \n",
    "week = week.merge(players.loc[:, ['nflId', 'position']], how='left')\n",
    "week.shape"
   ]
  },
  {
   "cell_type": "code",
   "execution_count": null,
   "metadata": {},
   "outputs": [],
   "source": [
    "#Matts reading in files \n",
    "def load_dataset(dataset_name):\n",
    "    \"\"\"\n",
    "    Download a specific dataset from data directory.\n",
    "\n",
    "    Parameters:\n",
    "    - dataset_name: Name of the dataset to load\n",
    "    \"\"\"\n",
    "    return pd.read_csv(f\"C:\\\\Users\\\\mattd\\\\Documents\\\\GitHub\\\\big-data-bowl-2024\\\\data\\\\{dataset_name}.csv\")\n",
    "\n",
    "# Read In csvs\n",
    "plays = load_dataset(\"plays\")\n",
    "players = load_dataset(\"players\")\n",
    "week = load_dataset(\"tracking_week_1\")\n",
    "tackles = load_dataset(\"tackles\")\n",
    "week = week.merge(players.loc[:, ['nflId', 'position']], how='left')\n",
    "week.shape"
   ]
  },
  {
   "cell_type": "code",
   "execution_count": 14,
   "metadata": {},
   "outputs": [],
   "source": [
    "\"\"\"Game level functions\"\"\"\n",
    "\n",
    "def get_frames_of_catch(games):\n",
    "    \"\"\"\n",
    "    Returns only the frame of the play where the ball is caught.\n",
    "\n",
    "    Parameters:\n",
    "    - games: Dataset of games\n",
    "\n",
    "    Returns:\n",
    "    - frame: The tracking data of only the data where the ball is caught\n",
    "    \"\"\"\n",
    "    return games.loc[games['event'] == 'pass_outcome_caught'].copy()"
   ]
  },
  {
   "cell_type": "code",
   "execution_count": 15,
   "metadata": {},
   "outputs": [],
   "source": [
    "\"\"\"Frame level functions\"\"\"\n",
    "def distance_to_ball(play_data, frame, ball_carrier_id):\n",
    "    \"\"\"\n",
    "    Calculates the distance to the ball for each player per frame in a play.\n",
    "\n",
    "    Parameters:\n",
    "    - dataset_name: Name of the dataset to load\n",
    "    \"\"\"\n",
    "    ball_carrier = frame[frame[\"nflId\"] == ball_carrier_id]\n",
    "    carr_x = ball_carrier[\"x\"].values[0]\n",
    "    carr_y = ball_carrier[\"y\"].values[0]\n",
    "    frame['distance_to_ball_carrier'] = cdist(frame[['x', 'y']], [[carr_x, carr_y]], metric='euclidean')\n",
    "    frame['ballCarrierId'] = ball_carrier_id  # Include ballCarrierId in the frame\n",
    "    return frame\n",
    "\n",
    "def who_tackles(play_data, frame):\n",
    "    \"\"\"\n",
    "    Adds who tackles the ball carrier to the tracking data set.\n",
    "\n",
    "    Parameters:\n",
    "    - dataset_name: Name of the dataset to load\n",
    "    \"\"\"\n",
    "    ball_carrier_id = play_data[\"ballCarrierId\"].iloc[0]\n",
    "    ball_carrier = frame[frame[\"nflId\"] == ball_carrier_id]\n",
    "    carr_x = ball_carrier[\"x\"].values[0]\n",
    "    carr_y = ball_carrier[\"y\"].values[0]\n",
    "    frame['distance_to_ball_carrier'] = cdist(frame[['x', 'y']], [[carr_x, carr_y]], metric='euclidean')\n",
    "    return frame\n",
    "\n",
    "def create_dnn_input_df(frames, side_of_ball):\n",
    "    \"\"\"\n",
    "    Creates the input dataframe for the DNN model.\n",
    "\n",
    "    Parameters:\n",
    "    - frames: DataFrame containing player tracking data\n",
    "    - side_of_ball: String representing the side of the ball (e.g., 'offense', 'defense')\n",
    "    \"\"\"\n",
    "    # Sort the players first by position, then by jersey number\n",
    "\n",
    "    sorted = frames.sort_values(by=['position', 'jerseyNumber']).reset_index(drop=True)\n",
    "\n",
    "    input_df = pd.DataFrame()\n",
    "    \n",
    "    # Iterate over each row in the sorted DataFrame\n",
    "    for idx, row in sorted.iterrows():\n",
    "        # Extract player's x and y values\n",
    "        x = row['x']\n",
    "        y = row['y']\n",
    "        s = row['s']\n",
    "        a = row['a']\n",
    "        dis = row['dis']\n",
    "        o = row['o']\n",
    "        dir = row['dir']\n",
    "        distance_to_ball_carrier = row['distance_to_ball_carrier']\n",
    "\n",
    "        # Add columns to the new DataFrame\n",
    "        input_df.loc[0,f'{side_of_ball}_x_{idx}'] = x\n",
    "        input_df.loc[0,f'{side_of_ball}_y_{idx}'] = y\n",
    "        input_df.loc[0,f'{side_of_ball}_s_{idx}'] = s\n",
    "        input_df.loc[0,f'{side_of_ball}_a_{idx}'] = a\n",
    "        input_df.loc[0,f'{side_of_ball}_dis_{idx}'] = dis\n",
    "        input_df.loc[0,f'{side_of_ball}_o_{idx}'] = o\n",
    "        input_df.loc[0,f'{side_of_ball}_dir_{idx}'] = dir\n",
    "        input_df.loc[0,f'{side_of_ball}_distance_to_ball_carrier_{idx}'] = distance_to_ball_carrier\n",
    "\n",
    "    return input_df\n",
    "\n",
    "\n",
    "def calculate_nearby_players(play, radius=5):\n",
    "    \n",
    "    \"\"\"\n",
    "    Calculate the number of defenders and blockers within a specified radius of the ball carrier.\n",
    "    \n",
    "    Parameters:\n",
    "    play - DataFrame containing play data including player positions and teams\n",
    "    radius - Distance within which a player is considered 'nearby' ( 5 yards)\n",
    "    \n",
    "    Returns:\n",
    "    DataFrame with additional columns 'defenders_nearby' and 'blockers_nearby'\n",
    "    \"\"\"\n",
    "    \n",
    "    ball_carrier_id = play[\"ballCarrierId\"].iloc[0]\n",
    "    ball_carrier = play[play[\"nflId\"] == ball_carrier_id]\n",
    "\n",
    "    # Calculate distances from the ball carrier to all players\n",
    "    play['distance_to_carrier'] = np.sqrt((play['x'] - ball_carrier['x'].values[0])**2 + (play['y'] - ball_carrier['y'].values[0])**2)\n",
    "\n",
    "    # Identify defenders and blockers\n",
    "    is_defender = (play['club'] != ball_carrier['club'].values[0]) & (play['nflId'] != ball_carrier_id)\n",
    "    is_blocker = (play['club'] == ball_carrier['club'].values[0]) & (play['nflId'] != ball_carrier_id)\n",
    "\n",
    "    # Count nearby defenders and blockers\n",
    "    defenders_nearby = play[is_defender & (play['distance_to_carrier'] < radius)].groupby(['gameId', 'playId']).nflId.nunique().rename('defenders_nearby')\n",
    "    blockers_nearby = play[is_blocker & (play['distance_to_carrier'] < radius)].groupby(['gameId', 'playId']).nflId.nunique().rename('blockers_nearby')\n",
    "\n",
    "    return defenders_nearby, blockers_nearby"
   ]
  },
  {
   "cell_type": "code",
   "execution_count": 16,
   "metadata": {},
   "outputs": [],
   "source": [
    "def calculate_snap_to_catch_time(plays, tracking):\n",
    "    \"\"\"\n",
    "    Calculates the time in milliseconds from ball_snap to pass_outcome_caught for each play.\n",
    "\n",
    "    Parameters:\n",
    "    - plays: DataFrame containing play data\n",
    "    - tracking: DataFrame containing tracking data\n",
    "\n",
    "    Returns:\n",
    "    - DataFrame with gameId, playId, and time difference in milliseconds\n",
    "    \"\"\"\n",
    "    time_diffs = []\n",
    "\n",
    "    for pid in plays['playId'].unique():\n",
    "        # Get the gameId for the current playId from the plays DataFrame\n",
    "        gid = plays[plays['playId'] == pid]['gameId'].iloc[0]\n",
    "        \n",
    "        play_tracking = tracking[tracking['playId'] == pid]\n",
    "\n",
    "        snap_tracking = play_tracking[play_tracking['event'] == 'ball_snap']\n",
    "        catch_tracking = play_tracking[play_tracking['event'] == 'pass_outcome_caught']\n",
    "\n",
    "        if not snap_tracking.empty and not catch_tracking.empty:\n",
    "            snap_time = pd.to_datetime(snap_tracking['time'].iloc[0])\n",
    "            catch_time = pd.to_datetime(catch_tracking['time'].iloc[0])\n",
    "\n",
    "            time_diff = (catch_time - snap_time).total_seconds() * 1000\n",
    "            time_diffs.append({'gameId': gid, 'playId': pid, 'time_diff_ms': time_diff})\n",
    "        else:\n",
    "            time_diffs.append({'gameId': gid, 'playId': pid, 'time_diff_ms': None})\n",
    "\n",
    "    return pd.DataFrame(time_diffs)\n",
    "\n",
    "\n",
    "def merge_play_data(final_df, plays_df, columns_to_merge):\n",
    "    \"\"\"\n",
    "    Merges specified columns from the plays DataFrame into the final DataFrame.\n",
    "\n",
    "    Parameters:\n",
    "    - final_df: The final DataFrame to which the columns will be added.\n",
    "    - plays_df: The DataFrame containing play data.\n",
    "    - columns_to_merge: List of column names to be merged from plays_df to final_df.\n",
    "\n",
    "    Returns:\n",
    "    - DataFrame with merged columns.\n",
    "    \"\"\"\n",
    "    # Select required columns from plays DataFrame along with gameId and playId\n",
    "    plays_subset = plays_df[['gameId', 'playId'] + columns_to_merge]\n",
    "\n",
    "    # Merge the plays data with the final DataFrame\n",
    "    merged_df = final_df.merge(plays_subset, on=['gameId', 'playId'], how='left')\n",
    "    return merged_df\n",
    "\n",
    "# Usage of the function\n",
    "columns_to_add = ['quarter', 'down', 'yardsToGo', 'gameClock', 'passLength', 'expectedPoints']\n"
   ]
  },
  {
   "cell_type": "code",
   "execution_count": 19,
   "metadata": {},
   "outputs": [
    {
     "data": {
      "application/vnd.jupyter.widget-view+json": {
       "model_id": "ab54de6e68fd48b4b27cdbc15d69be8a",
       "version_major": 2,
       "version_minor": 0
      },
      "text/plain": [
       "HBox(children=(FloatProgress(value=0.0, max=16.0), HTML(value='')))"
      ]
     },
     "metadata": {},
     "output_type": "display_data"
    },
    {
     "data": {
      "application/vnd.jupyter.widget-view+json": {
       "model_id": "",
       "version_major": 2,
       "version_minor": 0
      },
      "text/plain": [
       "HBox(children=(FloatProgress(value=0.0, max=52.0), HTML(value='')))"
      ]
     },
     "metadata": {},
     "output_type": "display_data"
    },
    {
     "data": {
      "application/vnd.jupyter.widget-view+json": {
       "model_id": "",
       "version_major": 2,
       "version_minor": 0
      },
      "text/plain": [
       "HBox(children=(FloatProgress(value=0.0, max=40.0), HTML(value='')))"
      ]
     },
     "metadata": {},
     "output_type": "display_data"
    },
    {
     "data": {
      "application/vnd.jupyter.widget-view+json": {
       "model_id": "",
       "version_major": 2,
       "version_minor": 0
      },
      "text/plain": [
       "HBox(children=(FloatProgress(value=0.0, max=32.0), HTML(value='')))"
      ]
     },
     "metadata": {},
     "output_type": "display_data"
    },
    {
     "data": {
      "application/vnd.jupyter.widget-view+json": {
       "model_id": "",
       "version_major": 2,
       "version_minor": 0
      },
      "text/plain": [
       "HBox(children=(FloatProgress(value=0.0, max=22.0), HTML(value='')))"
      ]
     },
     "metadata": {},
     "output_type": "display_data"
    },
    {
     "data": {
      "application/vnd.jupyter.widget-view+json": {
       "model_id": "",
       "version_major": 2,
       "version_minor": 0
      },
      "text/plain": [
       "HBox(children=(FloatProgress(value=0.0, max=50.0), HTML(value='')))"
      ]
     },
     "metadata": {},
     "output_type": "display_data"
    },
    {
     "data": {
      "application/vnd.jupyter.widget-view+json": {
       "model_id": "",
       "version_major": 2,
       "version_minor": 0
      },
      "text/plain": [
       "HBox(children=(FloatProgress(value=0.0, max=39.0), HTML(value='')))"
      ]
     },
     "metadata": {},
     "output_type": "display_data"
    },
    {
     "data": {
      "application/vnd.jupyter.widget-view+json": {
       "model_id": "",
       "version_major": 2,
       "version_minor": 0
      },
      "text/plain": [
       "HBox(children=(FloatProgress(value=0.0, max=51.0), HTML(value='')))"
      ]
     },
     "metadata": {},
     "output_type": "display_data"
    },
    {
     "data": {
      "application/vnd.jupyter.widget-view+json": {
       "model_id": "",
       "version_major": 2,
       "version_minor": 0
      },
      "text/plain": [
       "HBox(children=(FloatProgress(value=0.0, max=45.0), HTML(value='')))"
      ]
     },
     "metadata": {},
     "output_type": "display_data"
    },
    {
     "data": {
      "application/vnd.jupyter.widget-view+json": {
       "model_id": "",
       "version_major": 2,
       "version_minor": 0
      },
      "text/plain": [
       "HBox(children=(FloatProgress(value=0.0, max=48.0), HTML(value='')))"
      ]
     },
     "metadata": {},
     "output_type": "display_data"
    },
    {
     "data": {
      "application/vnd.jupyter.widget-view+json": {
       "model_id": "",
       "version_major": 2,
       "version_minor": 0
      },
      "text/plain": [
       "HBox(children=(FloatProgress(value=0.0, max=37.0), HTML(value='')))"
      ]
     },
     "metadata": {},
     "output_type": "display_data"
    },
    {
     "data": {
      "application/vnd.jupyter.widget-view+json": {
       "model_id": "",
       "version_major": 2,
       "version_minor": 0
      },
      "text/plain": [
       "HBox(children=(FloatProgress(value=0.0, max=47.0), HTML(value='')))"
      ]
     },
     "metadata": {},
     "output_type": "display_data"
    },
    {
     "data": {
      "application/vnd.jupyter.widget-view+json": {
       "model_id": "",
       "version_major": 2,
       "version_minor": 0
      },
      "text/plain": [
       "HBox(children=(FloatProgress(value=0.0, max=50.0), HTML(value='')))"
      ]
     },
     "metadata": {},
     "output_type": "display_data"
    },
    {
     "data": {
      "application/vnd.jupyter.widget-view+json": {
       "model_id": "",
       "version_major": 2,
       "version_minor": 0
      },
      "text/plain": [
       "HBox(children=(FloatProgress(value=0.0, max=45.0), HTML(value='')))"
      ]
     },
     "metadata": {},
     "output_type": "display_data"
    },
    {
     "data": {
      "application/vnd.jupyter.widget-view+json": {
       "model_id": "",
       "version_major": 2,
       "version_minor": 0
      },
      "text/plain": [
       "HBox(children=(FloatProgress(value=0.0, max=43.0), HTML(value='')))"
      ]
     },
     "metadata": {},
     "output_type": "display_data"
    },
    {
     "data": {
      "application/vnd.jupyter.widget-view+json": {
       "model_id": "",
       "version_major": 2,
       "version_minor": 0
      },
      "text/plain": [
       "HBox(children=(FloatProgress(value=0.0, max=40.0), HTML(value='')))"
      ]
     },
     "metadata": {},
     "output_type": "display_data"
    },
    {
     "data": {
      "application/vnd.jupyter.widget-view+json": {
       "model_id": "",
       "version_major": 2,
       "version_minor": 0
      },
      "text/plain": [
       "HBox(children=(FloatProgress(value=0.0, max=49.0), HTML(value='')))"
      ]
     },
     "metadata": {},
     "output_type": "display_data"
    },
    {
     "name": "stdout",
     "output_type": "stream",
     "text": [
      "\n"
     ]
    }
   ],
   "source": [
    "# Process each game, play, and frame\n",
    "pass_only = get_frames_of_catch(week)\n",
    "#time_diffs_df = calculate_snap_to_catch_time(plays, week)-- this was for the calculate_snap_to_catch_time\n",
    "\n",
    "\n",
    "final_input_list = []\n",
    "for gid in tqdm(pass_only['gameId'].unique(), leave=True):\n",
    "    \n",
    "    # print(f\"Processing Game ID: {gid}\")  # Printing Game ID \n",
    "    game = pass_only.loc[pass_only['gameId'] == gid].copy()\n",
    "    game_plays = plays[plays['gameId'] == gid]\n",
    "    game_tackles = tackles[tackles['gameId'] == gid]\n",
    "\n",
    "    for pid in tqdm(game['playId'].unique(), leave=False):\n",
    "        #print(f\"  Processing Play ID: {pid}\")  # Print Play ID\n",
    "        play = game.loc[game['playId'] == pid].copy()\n",
    "        play_data = game_plays[game_plays['playId'] == pid]\n",
    "        ball_carrier_id = play_data[\"ballCarrierId\"].iloc[0]  # Extract ballCarrierId\n",
    "\n",
    "        \n",
    "        #print(\"Columns in play_data:\", play_data.columns)\n",
    "\n",
    "\n",
    "        #Adding distance to ball carrier as a feature in tracking data\n",
    "        play = distance_to_ball(play_data, play, ball_carrier_id)  # Pass ballCarrierId\n",
    "\n",
    "        \n",
    "        #print(\"Columns in play after distance_to_ball:\", play.columns)\n",
    "\n",
    "            \n",
    "        defenders_nearby, blockers_nearby = calculate_nearby_players(play)\n",
    "\n",
    "        offense = play[play[\"club\"] == play_data[\"possessionTeam\"].iloc[0]]\n",
    "        defense = play[play[\"club\"] == play_data[\"defensiveTeam\"].iloc[0]]\n",
    "        #print(defense.head())\n",
    "        #print(\"Length of \",len(defense))\n",
    "        #print(\"Length of \",len(offense))\n",
    "\n",
    "\n",
    "        offense_input = create_dnn_input_df(offense, \"o\")\n",
    "        defense_input = create_dnn_input_df(defense, \"d\")\n",
    "        \n",
    "        # Including the game and play IDs in the offense and defense dataframes\n",
    "        offense_input['gameId'] = gid\n",
    "        defense_input['gameId'] = gid\n",
    "        offense_input['playId'] = pid\n",
    "        defense_input['playId'] = pid\n",
    "\n",
    "\n",
    "        \n",
    "        player_tracking_data = pd.concat([offense_input, defense_input], axis=1)\n",
    "        player_tracking_data['defenders_nearby'] = defenders_nearby.get((gid, pid), 0)\n",
    "        player_tracking_data['blockers_nearby'] = blockers_nearby.get((gid, pid), 0)\n",
    "        \n",
    "        \n",
    "        final_input_list.append(player_tracking_data)\n",
    "\n",
    "        \n",
    "final_input_df = pd.concat(final_input_list, ignore_index=True)\n",
    "\n",
    "#this was for the calculate_snap_to_catch_time\n",
    "#final_input_df = final_input_df.merge(time_diffs_df, on=['gameId', 'playId'], how='left')\n"
   ]
  },
  {
   "cell_type": "code",
   "execution_count": 20,
   "metadata": {},
   "outputs": [
    {
     "data": {
      "text/html": [
       "<div>\n",
       "<style scoped>\n",
       "    .dataframe tbody tr th:only-of-type {\n",
       "        vertical-align: middle;\n",
       "    }\n",
       "\n",
       "    .dataframe tbody tr th {\n",
       "        vertical-align: top;\n",
       "    }\n",
       "\n",
       "    .dataframe thead th {\n",
       "        text-align: right;\n",
       "    }\n",
       "</style>\n",
       "<table border=\"1\" class=\"dataframe\">\n",
       "  <thead>\n",
       "    <tr style=\"text-align: right;\">\n",
       "      <th></th>\n",
       "      <th>o_x_0</th>\n",
       "      <th>o_y_0</th>\n",
       "      <th>o_s_0</th>\n",
       "      <th>o_a_0</th>\n",
       "      <th>o_dis_0</th>\n",
       "      <th>o_o_0</th>\n",
       "      <th>o_dir_0</th>\n",
       "      <th>o_distance_to_ball_carrier_0</th>\n",
       "      <th>o_x_1</th>\n",
       "      <th>o_y_1</th>\n",
       "      <th>...</th>\n",
       "      <th>d_s_10</th>\n",
       "      <th>d_a_10</th>\n",
       "      <th>d_dis_10</th>\n",
       "      <th>d_o_10</th>\n",
       "      <th>d_dir_10</th>\n",
       "      <th>d_distance_to_ball_carrier_10</th>\n",
       "      <th>gameId</th>\n",
       "      <th>playId</th>\n",
       "      <th>defenders_nearby</th>\n",
       "      <th>blockers_nearby</th>\n",
       "    </tr>\n",
       "  </thead>\n",
       "  <tbody>\n",
       "    <tr>\n",
       "      <th>0</th>\n",
       "      <td>88.21</td>\n",
       "      <td>29.31</td>\n",
       "      <td>1.42</td>\n",
       "      <td>0.64</td>\n",
       "      <td>0.14</td>\n",
       "      <td>282.32</td>\n",
       "      <td>347.15</td>\n",
       "      <td>10.456003</td>\n",
       "      <td>91.02</td>\n",
       "      <td>31.34</td>\n",
       "      <td>...</td>\n",
       "      <td>1.79</td>\n",
       "      <td>4.33</td>\n",
       "      <td>0.19</td>\n",
       "      <td>82.14</td>\n",
       "      <td>305.29</td>\n",
       "      <td>21.893600</td>\n",
       "      <td>2022090800</td>\n",
       "      <td>56</td>\n",
       "      <td>2</td>\n",
       "      <td>0</td>\n",
       "    </tr>\n",
       "    <tr>\n",
       "      <th>1</th>\n",
       "      <td>72.81</td>\n",
       "      <td>31.22</td>\n",
       "      <td>2.06</td>\n",
       "      <td>1.26</td>\n",
       "      <td>0.21</td>\n",
       "      <td>8.37</td>\n",
       "      <td>79.87</td>\n",
       "      <td>8.712204</td>\n",
       "      <td>70.66</td>\n",
       "      <td>32.44</td>\n",
       "      <td>...</td>\n",
       "      <td>5.02</td>\n",
       "      <td>3.68</td>\n",
       "      <td>0.51</td>\n",
       "      <td>5.20</td>\n",
       "      <td>310.45</td>\n",
       "      <td>30.639067</td>\n",
       "      <td>2022090800</td>\n",
       "      <td>122</td>\n",
       "      <td>2</td>\n",
       "      <td>0</td>\n",
       "    </tr>\n",
       "    <tr>\n",
       "      <th>2</th>\n",
       "      <td>61.82</td>\n",
       "      <td>24.53</td>\n",
       "      <td>1.18</td>\n",
       "      <td>2.14</td>\n",
       "      <td>0.12</td>\n",
       "      <td>259.03</td>\n",
       "      <td>110.68</td>\n",
       "      <td>10.675917</td>\n",
       "      <td>60.26</td>\n",
       "      <td>25.86</td>\n",
       "      <td>...</td>\n",
       "      <td>2.97</td>\n",
       "      <td>4.35</td>\n",
       "      <td>0.27</td>\n",
       "      <td>114.51</td>\n",
       "      <td>144.12</td>\n",
       "      <td>9.193808</td>\n",
       "      <td>2022090800</td>\n",
       "      <td>167</td>\n",
       "      <td>1</td>\n",
       "      <td>0</td>\n",
       "    </tr>\n",
       "    <tr>\n",
       "      <th>3</th>\n",
       "      <td>42.62</td>\n",
       "      <td>30.35</td>\n",
       "      <td>2.34</td>\n",
       "      <td>1.23</td>\n",
       "      <td>0.24</td>\n",
       "      <td>316.92</td>\n",
       "      <td>325.71</td>\n",
       "      <td>17.242796</td>\n",
       "      <td>45.24</td>\n",
       "      <td>35.12</td>\n",
       "      <td>...</td>\n",
       "      <td>6.18</td>\n",
       "      <td>2.36</td>\n",
       "      <td>0.62</td>\n",
       "      <td>10.45</td>\n",
       "      <td>4.93</td>\n",
       "      <td>19.972351</td>\n",
       "      <td>2022090800</td>\n",
       "      <td>212</td>\n",
       "      <td>1</td>\n",
       "      <td>0</td>\n",
       "    </tr>\n",
       "    <tr>\n",
       "      <th>4</th>\n",
       "      <td>38.13</td>\n",
       "      <td>38.47</td>\n",
       "      <td>1.87</td>\n",
       "      <td>0.82</td>\n",
       "      <td>0.20</td>\n",
       "      <td>326.44</td>\n",
       "      <td>326.44</td>\n",
       "      <td>19.881481</td>\n",
       "      <td>36.38</td>\n",
       "      <td>25.86</td>\n",
       "      <td>...</td>\n",
       "      <td>7.56</td>\n",
       "      <td>0.96</td>\n",
       "      <td>0.76</td>\n",
       "      <td>299.98</td>\n",
       "      <td>313.74</td>\n",
       "      <td>8.202103</td>\n",
       "      <td>2022090800</td>\n",
       "      <td>236</td>\n",
       "      <td>0</td>\n",
       "      <td>0</td>\n",
       "    </tr>\n",
       "    <tr>\n",
       "      <th>...</th>\n",
       "      <td>...</td>\n",
       "      <td>...</td>\n",
       "      <td>...</td>\n",
       "      <td>...</td>\n",
       "      <td>...</td>\n",
       "      <td>...</td>\n",
       "      <td>...</td>\n",
       "      <td>...</td>\n",
       "      <td>...</td>\n",
       "      <td>...</td>\n",
       "      <td>...</td>\n",
       "      <td>...</td>\n",
       "      <td>...</td>\n",
       "      <td>...</td>\n",
       "      <td>...</td>\n",
       "      <td>...</td>\n",
       "      <td>...</td>\n",
       "      <td>...</td>\n",
       "      <td>...</td>\n",
       "      <td>...</td>\n",
       "      <td>...</td>\n",
       "    </tr>\n",
       "    <tr>\n",
       "      <th>685</th>\n",
       "      <td>87.61</td>\n",
       "      <td>25.38</td>\n",
       "      <td>2.79</td>\n",
       "      <td>1.02</td>\n",
       "      <td>0.29</td>\n",
       "      <td>314.18</td>\n",
       "      <td>356.02</td>\n",
       "      <td>15.582997</td>\n",
       "      <td>90.91</td>\n",
       "      <td>21.13</td>\n",
       "      <td>...</td>\n",
       "      <td>2.28</td>\n",
       "      <td>1.87</td>\n",
       "      <td>0.24</td>\n",
       "      <td>305.64</td>\n",
       "      <td>257.22</td>\n",
       "      <td>22.875861</td>\n",
       "      <td>2022091200</td>\n",
       "      <td>3596</td>\n",
       "      <td>1</td>\n",
       "      <td>0</td>\n",
       "    </tr>\n",
       "    <tr>\n",
       "      <th>686</th>\n",
       "      <td>81.38</td>\n",
       "      <td>32.02</td>\n",
       "      <td>0.94</td>\n",
       "      <td>0.53</td>\n",
       "      <td>0.10</td>\n",
       "      <td>316.81</td>\n",
       "      <td>38.20</td>\n",
       "      <td>12.777437</td>\n",
       "      <td>82.61</td>\n",
       "      <td>32.43</td>\n",
       "      <td>...</td>\n",
       "      <td>3.73</td>\n",
       "      <td>3.86</td>\n",
       "      <td>0.35</td>\n",
       "      <td>303.91</td>\n",
       "      <td>293.36</td>\n",
       "      <td>17.898338</td>\n",
       "      <td>2022091200</td>\n",
       "      <td>3628</td>\n",
       "      <td>2</td>\n",
       "      <td>0</td>\n",
       "    </tr>\n",
       "    <tr>\n",
       "      <th>687</th>\n",
       "      <td>74.56</td>\n",
       "      <td>30.32</td>\n",
       "      <td>1.68</td>\n",
       "      <td>1.56</td>\n",
       "      <td>0.17</td>\n",
       "      <td>306.78</td>\n",
       "      <td>333.18</td>\n",
       "      <td>10.440278</td>\n",
       "      <td>77.13</td>\n",
       "      <td>32.79</td>\n",
       "      <td>...</td>\n",
       "      <td>2.37</td>\n",
       "      <td>2.26</td>\n",
       "      <td>0.24</td>\n",
       "      <td>281.55</td>\n",
       "      <td>345.66</td>\n",
       "      <td>9.617614</td>\n",
       "      <td>2022091200</td>\n",
       "      <td>3723</td>\n",
       "      <td>1</td>\n",
       "      <td>0</td>\n",
       "    </tr>\n",
       "    <tr>\n",
       "      <th>688</th>\n",
       "      <td>62.84</td>\n",
       "      <td>33.28</td>\n",
       "      <td>3.91</td>\n",
       "      <td>1.29</td>\n",
       "      <td>0.39</td>\n",
       "      <td>314.68</td>\n",
       "      <td>341.62</td>\n",
       "      <td>3.023640</td>\n",
       "      <td>62.88</td>\n",
       "      <td>35.32</td>\n",
       "      <td>...</td>\n",
       "      <td>0.91</td>\n",
       "      <td>2.78</td>\n",
       "      <td>0.10</td>\n",
       "      <td>234.01</td>\n",
       "      <td>151.04</td>\n",
       "      <td>9.308861</td>\n",
       "      <td>2022091200</td>\n",
       "      <td>3747</td>\n",
       "      <td>2</td>\n",
       "      <td>2</td>\n",
       "    </tr>\n",
       "    <tr>\n",
       "      <th>689</th>\n",
       "      <td>69.54</td>\n",
       "      <td>28.60</td>\n",
       "      <td>2.92</td>\n",
       "      <td>0.77</td>\n",
       "      <td>0.30</td>\n",
       "      <td>187.21</td>\n",
       "      <td>181.64</td>\n",
       "      <td>16.671848</td>\n",
       "      <td>68.99</td>\n",
       "      <td>31.92</td>\n",
       "      <td>...</td>\n",
       "      <td>2.61</td>\n",
       "      <td>6.42</td>\n",
       "      <td>0.26</td>\n",
       "      <td>132.69</td>\n",
       "      <td>212.57</td>\n",
       "      <td>44.540324</td>\n",
       "      <td>2022091200</td>\n",
       "      <td>3826</td>\n",
       "      <td>0</td>\n",
       "      <td>0</td>\n",
       "    </tr>\n",
       "  </tbody>\n",
       "</table>\n",
       "<p>690 rows × 182 columns</p>\n",
       "</div>"
      ],
      "text/plain": [
       "     o_x_0  o_y_0  o_s_0  o_a_0  o_dis_0   o_o_0  o_dir_0  \\\n",
       "0    88.21  29.31   1.42   0.64     0.14  282.32   347.15   \n",
       "1    72.81  31.22   2.06   1.26     0.21    8.37    79.87   \n",
       "2    61.82  24.53   1.18   2.14     0.12  259.03   110.68   \n",
       "3    42.62  30.35   2.34   1.23     0.24  316.92   325.71   \n",
       "4    38.13  38.47   1.87   0.82     0.20  326.44   326.44   \n",
       "..     ...    ...    ...    ...      ...     ...      ...   \n",
       "685  87.61  25.38   2.79   1.02     0.29  314.18   356.02   \n",
       "686  81.38  32.02   0.94   0.53     0.10  316.81    38.20   \n",
       "687  74.56  30.32   1.68   1.56     0.17  306.78   333.18   \n",
       "688  62.84  33.28   3.91   1.29     0.39  314.68   341.62   \n",
       "689  69.54  28.60   2.92   0.77     0.30  187.21   181.64   \n",
       "\n",
       "     o_distance_to_ball_carrier_0  o_x_1  o_y_1  ...  d_s_10  d_a_10  \\\n",
       "0                       10.456003  91.02  31.34  ...    1.79    4.33   \n",
       "1                        8.712204  70.66  32.44  ...    5.02    3.68   \n",
       "2                       10.675917  60.26  25.86  ...    2.97    4.35   \n",
       "3                       17.242796  45.24  35.12  ...    6.18    2.36   \n",
       "4                       19.881481  36.38  25.86  ...    7.56    0.96   \n",
       "..                            ...    ...    ...  ...     ...     ...   \n",
       "685                     15.582997  90.91  21.13  ...    2.28    1.87   \n",
       "686                     12.777437  82.61  32.43  ...    3.73    3.86   \n",
       "687                     10.440278  77.13  32.79  ...    2.37    2.26   \n",
       "688                      3.023640  62.88  35.32  ...    0.91    2.78   \n",
       "689                     16.671848  68.99  31.92  ...    2.61    6.42   \n",
       "\n",
       "     d_dis_10  d_o_10  d_dir_10  d_distance_to_ball_carrier_10      gameId  \\\n",
       "0        0.19   82.14    305.29                      21.893600  2022090800   \n",
       "1        0.51    5.20    310.45                      30.639067  2022090800   \n",
       "2        0.27  114.51    144.12                       9.193808  2022090800   \n",
       "3        0.62   10.45      4.93                      19.972351  2022090800   \n",
       "4        0.76  299.98    313.74                       8.202103  2022090800   \n",
       "..        ...     ...       ...                            ...         ...   \n",
       "685      0.24  305.64    257.22                      22.875861  2022091200   \n",
       "686      0.35  303.91    293.36                      17.898338  2022091200   \n",
       "687      0.24  281.55    345.66                       9.617614  2022091200   \n",
       "688      0.10  234.01    151.04                       9.308861  2022091200   \n",
       "689      0.26  132.69    212.57                      44.540324  2022091200   \n",
       "\n",
       "     playId  defenders_nearby  blockers_nearby  \n",
       "0        56                 2                0  \n",
       "1       122                 2                0  \n",
       "2       167                 1                0  \n",
       "3       212                 1                0  \n",
       "4       236                 0                0  \n",
       "..      ...               ...              ...  \n",
       "685    3596                 1                0  \n",
       "686    3628                 2                0  \n",
       "687    3723                 1                0  \n",
       "688    3747                 2                2  \n",
       "689    3826                 0                0  \n",
       "\n",
       "[690 rows x 182 columns]"
      ]
     },
     "execution_count": 20,
     "metadata": {},
     "output_type": "execute_result"
    }
   ],
   "source": [
    "final_input_df"
   ]
  },
  {
   "cell_type": "code",
   "execution_count": null,
   "metadata": {},
   "outputs": [],
   "source": []
  }
 ],
 "metadata": {
  "kernelspec": {
   "display_name": "Python 3",
   "language": "python",
   "name": "python3"
  },
  "language_info": {
   "codemirror_mode": {
    "name": "ipython",
    "version": 3
   },
   "file_extension": ".py",
   "mimetype": "text/x-python",
   "name": "python",
   "nbconvert_exporter": "python",
   "pygments_lexer": "ipython3",
   "version": "3.7.10"
  }
 },
 "nbformat": 4,
 "nbformat_minor": 2
}
